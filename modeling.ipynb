{
  "nbformat": 4,
  "nbformat_minor": 0,
  "metadata": {
    "colab": {
      "name": "modeling.ipynb",
      "provenance": [],
      "collapsed_sections": []
    },
    "kernelspec": {
      "name": "python3",
      "display_name": "Python 3"
    },
    "language_info": {
      "name": "python"
    }
  },
  "cells": [
    {
      "cell_type": "code",
      "metadata": {
        "id": "cI7D5-XSG_GW"
      },
      "source": [
        "import numpy as np\n",
        "import pandas as pd\n",
        "import matplotlib.pyplot as plt\n",
        "import seaborn as sns\n",
        "from sklearn.model_selection import train_test_split\n",
        "from xgboost import XGBClassifier\n",
        "from sklearn.metrics import accuracy_score, log_loss, classification_report, confusion_matrix\n",
        "from collections import Counter"
      ],
      "execution_count": 1,
      "outputs": []
    },
    {
      "cell_type": "code",
      "metadata": {
        "colab": {
          "base_uri": "https://localhost:8080/",
          "height": 253
        },
        "id": "Oqn2pKQ4Hl8r",
        "outputId": "d2bbf48d-125a-4622-9140-9606b84f5897"
      },
      "source": [
        "df = pd.read_csv('fully_processed_data.csv')\n",
        "df = df.drop('Unnamed: 0', axis=1)\n",
        "df.head()"
      ],
      "execution_count": 2,
      "outputs": [
        {
          "output_type": "execute_result",
          "data": {
            "text/html": [
              "<div>\n",
              "<style scoped>\n",
              "    .dataframe tbody tr th:only-of-type {\n",
              "        vertical-align: middle;\n",
              "    }\n",
              "\n",
              "    .dataframe tbody tr th {\n",
              "        vertical-align: top;\n",
              "    }\n",
              "\n",
              "    .dataframe thead th {\n",
              "        text-align: right;\n",
              "    }\n",
              "</style>\n",
              "<table border=\"1\" class=\"dataframe\">\n",
              "  <thead>\n",
              "    <tr style=\"text-align: right;\">\n",
              "      <th></th>\n",
              "      <th>myear</th>\n",
              "      <th>calcage</th>\n",
              "      <th>leader</th>\n",
              "      <th>deputy</th>\n",
              "      <th>support</th>\n",
              "      <th>disabled</th>\n",
              "      <th>hired</th>\n",
              "      <th>sherpa</th>\n",
              "      <th>tibetan</th>\n",
              "      <th>msuccess</th>\n",
              "      <th>mclaimed</th>\n",
              "      <th>mdisputed</th>\n",
              "      <th>msolo</th>\n",
              "      <th>mtraverse</th>\n",
              "      <th>mski</th>\n",
              "      <th>mparapente</th>\n",
              "      <th>mspeed</th>\n",
              "      <th>mo2none</th>\n",
              "      <th>mo2climb</th>\n",
              "      <th>mo2descent</th>\n",
              "      <th>mo2sleep</th>\n",
              "      <th>mo2medical</th>\n",
              "      <th>death</th>\n",
              "      <th>hcn</th>\n",
              "      <th>host</th>\n",
              "      <th>totmembers</th>\n",
              "      <th>tothired</th>\n",
              "      <th>nohired</th>\n",
              "      <th>citizen_is_nation</th>\n",
              "      <th>hired_ratio</th>\n",
              "      <th>same_nat_as_leader</th>\n",
              "      <th>0</th>\n",
              "      <th>1</th>\n",
              "      <th>2</th>\n",
              "      <th>3</th>\n",
              "      <th>4</th>\n",
              "      <th>5</th>\n",
              "      <th>6</th>\n",
              "      <th>7</th>\n",
              "      <th>8</th>\n",
              "      <th>...</th>\n",
              "      <th>444</th>\n",
              "      <th>445</th>\n",
              "      <th>446</th>\n",
              "      <th>447</th>\n",
              "      <th>448</th>\n",
              "      <th>449</th>\n",
              "      <th>450</th>\n",
              "      <th>451</th>\n",
              "      <th>452</th>\n",
              "      <th>453</th>\n",
              "      <th>454</th>\n",
              "      <th>455</th>\n",
              "      <th>456</th>\n",
              "      <th>457</th>\n",
              "      <th>458</th>\n",
              "      <th>459</th>\n",
              "      <th>460</th>\n",
              "      <th>461</th>\n",
              "      <th>462</th>\n",
              "      <th>463</th>\n",
              "      <th>464</th>\n",
              "      <th>465</th>\n",
              "      <th>466</th>\n",
              "      <th>467</th>\n",
              "      <th>468</th>\n",
              "      <th>469</th>\n",
              "      <th>470</th>\n",
              "      <th>471</th>\n",
              "      <th>472</th>\n",
              "      <th>473</th>\n",
              "      <th>474</th>\n",
              "      <th>475</th>\n",
              "      <th>476</th>\n",
              "      <th>477</th>\n",
              "      <th>478</th>\n",
              "      <th>479</th>\n",
              "      <th>480</th>\n",
              "      <th>481</th>\n",
              "      <th>482</th>\n",
              "      <th>483</th>\n",
              "    </tr>\n",
              "  </thead>\n",
              "  <tbody>\n",
              "    <tr>\n",
              "      <th>0</th>\n",
              "      <td>1988</td>\n",
              "      <td>32</td>\n",
              "      <td>0</td>\n",
              "      <td>0</td>\n",
              "      <td>0</td>\n",
              "      <td>0</td>\n",
              "      <td>0</td>\n",
              "      <td>0</td>\n",
              "      <td>0</td>\n",
              "      <td>0</td>\n",
              "      <td>0</td>\n",
              "      <td>0</td>\n",
              "      <td>0</td>\n",
              "      <td>0</td>\n",
              "      <td>0</td>\n",
              "      <td>0</td>\n",
              "      <td>0</td>\n",
              "      <td>0</td>\n",
              "      <td>1</td>\n",
              "      <td>0</td>\n",
              "      <td>1</td>\n",
              "      <td>0</td>\n",
              "      <td>0</td>\n",
              "      <td>0</td>\n",
              "      <td>1</td>\n",
              "      <td>17</td>\n",
              "      <td>10</td>\n",
              "      <td>0</td>\n",
              "      <td>1</td>\n",
              "      <td>0.588235</td>\n",
              "      <td>1</td>\n",
              "      <td>0.0</td>\n",
              "      <td>0.0</td>\n",
              "      <td>0.0</td>\n",
              "      <td>1.0</td>\n",
              "      <td>0.0</td>\n",
              "      <td>1.0</td>\n",
              "      <td>0.0</td>\n",
              "      <td>0.0</td>\n",
              "      <td>0.0</td>\n",
              "      <td>...</td>\n",
              "      <td>0.0</td>\n",
              "      <td>0.0</td>\n",
              "      <td>0.0</td>\n",
              "      <td>0.0</td>\n",
              "      <td>0.0</td>\n",
              "      <td>0.0</td>\n",
              "      <td>0.0</td>\n",
              "      <td>0.0</td>\n",
              "      <td>0.0</td>\n",
              "      <td>0.0</td>\n",
              "      <td>0.0</td>\n",
              "      <td>0.0</td>\n",
              "      <td>0.0</td>\n",
              "      <td>0.0</td>\n",
              "      <td>0.0</td>\n",
              "      <td>0.0</td>\n",
              "      <td>0.0</td>\n",
              "      <td>0.0</td>\n",
              "      <td>0.0</td>\n",
              "      <td>0.0</td>\n",
              "      <td>0.0</td>\n",
              "      <td>0.0</td>\n",
              "      <td>0.0</td>\n",
              "      <td>0.0</td>\n",
              "      <td>0.0</td>\n",
              "      <td>0.0</td>\n",
              "      <td>0.0</td>\n",
              "      <td>0.0</td>\n",
              "      <td>0.0</td>\n",
              "      <td>0.0</td>\n",
              "      <td>0.0</td>\n",
              "      <td>0.0</td>\n",
              "      <td>0.0</td>\n",
              "      <td>0.0</td>\n",
              "      <td>0.0</td>\n",
              "      <td>0.0</td>\n",
              "      <td>1.0</td>\n",
              "      <td>0.0</td>\n",
              "      <td>0.0</td>\n",
              "      <td>0.0</td>\n",
              "    </tr>\n",
              "    <tr>\n",
              "      <th>1</th>\n",
              "      <td>1988</td>\n",
              "      <td>40</td>\n",
              "      <td>0</td>\n",
              "      <td>0</td>\n",
              "      <td>0</td>\n",
              "      <td>0</td>\n",
              "      <td>1</td>\n",
              "      <td>1</td>\n",
              "      <td>0</td>\n",
              "      <td>0</td>\n",
              "      <td>0</td>\n",
              "      <td>0</td>\n",
              "      <td>0</td>\n",
              "      <td>0</td>\n",
              "      <td>0</td>\n",
              "      <td>0</td>\n",
              "      <td>0</td>\n",
              "      <td>1</td>\n",
              "      <td>0</td>\n",
              "      <td>0</td>\n",
              "      <td>0</td>\n",
              "      <td>0</td>\n",
              "      <td>0</td>\n",
              "      <td>0</td>\n",
              "      <td>1</td>\n",
              "      <td>17</td>\n",
              "      <td>10</td>\n",
              "      <td>0</td>\n",
              "      <td>0</td>\n",
              "      <td>0.588235</td>\n",
              "      <td>0</td>\n",
              "      <td>0.0</td>\n",
              "      <td>0.0</td>\n",
              "      <td>0.0</td>\n",
              "      <td>1.0</td>\n",
              "      <td>0.0</td>\n",
              "      <td>1.0</td>\n",
              "      <td>0.0</td>\n",
              "      <td>0.0</td>\n",
              "      <td>0.0</td>\n",
              "      <td>...</td>\n",
              "      <td>0.0</td>\n",
              "      <td>0.0</td>\n",
              "      <td>0.0</td>\n",
              "      <td>0.0</td>\n",
              "      <td>0.0</td>\n",
              "      <td>0.0</td>\n",
              "      <td>0.0</td>\n",
              "      <td>0.0</td>\n",
              "      <td>0.0</td>\n",
              "      <td>0.0</td>\n",
              "      <td>0.0</td>\n",
              "      <td>0.0</td>\n",
              "      <td>0.0</td>\n",
              "      <td>0.0</td>\n",
              "      <td>0.0</td>\n",
              "      <td>0.0</td>\n",
              "      <td>0.0</td>\n",
              "      <td>0.0</td>\n",
              "      <td>0.0</td>\n",
              "      <td>0.0</td>\n",
              "      <td>0.0</td>\n",
              "      <td>0.0</td>\n",
              "      <td>0.0</td>\n",
              "      <td>0.0</td>\n",
              "      <td>0.0</td>\n",
              "      <td>0.0</td>\n",
              "      <td>0.0</td>\n",
              "      <td>0.0</td>\n",
              "      <td>0.0</td>\n",
              "      <td>0.0</td>\n",
              "      <td>0.0</td>\n",
              "      <td>0.0</td>\n",
              "      <td>0.0</td>\n",
              "      <td>0.0</td>\n",
              "      <td>0.0</td>\n",
              "      <td>0.0</td>\n",
              "      <td>1.0</td>\n",
              "      <td>0.0</td>\n",
              "      <td>0.0</td>\n",
              "      <td>0.0</td>\n",
              "    </tr>\n",
              "    <tr>\n",
              "      <th>2</th>\n",
              "      <td>1988</td>\n",
              "      <td>29</td>\n",
              "      <td>0</td>\n",
              "      <td>0</td>\n",
              "      <td>0</td>\n",
              "      <td>0</td>\n",
              "      <td>1</td>\n",
              "      <td>1</td>\n",
              "      <td>0</td>\n",
              "      <td>0</td>\n",
              "      <td>0</td>\n",
              "      <td>0</td>\n",
              "      <td>0</td>\n",
              "      <td>0</td>\n",
              "      <td>0</td>\n",
              "      <td>0</td>\n",
              "      <td>0</td>\n",
              "      <td>0</td>\n",
              "      <td>1</td>\n",
              "      <td>0</td>\n",
              "      <td>1</td>\n",
              "      <td>0</td>\n",
              "      <td>1</td>\n",
              "      <td>0</td>\n",
              "      <td>1</td>\n",
              "      <td>17</td>\n",
              "      <td>10</td>\n",
              "      <td>0</td>\n",
              "      <td>0</td>\n",
              "      <td>0.588235</td>\n",
              "      <td>0</td>\n",
              "      <td>0.0</td>\n",
              "      <td>0.0</td>\n",
              "      <td>0.0</td>\n",
              "      <td>1.0</td>\n",
              "      <td>0.0</td>\n",
              "      <td>1.0</td>\n",
              "      <td>0.0</td>\n",
              "      <td>0.0</td>\n",
              "      <td>0.0</td>\n",
              "      <td>...</td>\n",
              "      <td>0.0</td>\n",
              "      <td>0.0</td>\n",
              "      <td>0.0</td>\n",
              "      <td>0.0</td>\n",
              "      <td>0.0</td>\n",
              "      <td>0.0</td>\n",
              "      <td>0.0</td>\n",
              "      <td>0.0</td>\n",
              "      <td>0.0</td>\n",
              "      <td>0.0</td>\n",
              "      <td>0.0</td>\n",
              "      <td>0.0</td>\n",
              "      <td>0.0</td>\n",
              "      <td>0.0</td>\n",
              "      <td>0.0</td>\n",
              "      <td>0.0</td>\n",
              "      <td>0.0</td>\n",
              "      <td>0.0</td>\n",
              "      <td>0.0</td>\n",
              "      <td>0.0</td>\n",
              "      <td>0.0</td>\n",
              "      <td>0.0</td>\n",
              "      <td>0.0</td>\n",
              "      <td>0.0</td>\n",
              "      <td>0.0</td>\n",
              "      <td>0.0</td>\n",
              "      <td>0.0</td>\n",
              "      <td>0.0</td>\n",
              "      <td>0.0</td>\n",
              "      <td>0.0</td>\n",
              "      <td>0.0</td>\n",
              "      <td>0.0</td>\n",
              "      <td>0.0</td>\n",
              "      <td>0.0</td>\n",
              "      <td>0.0</td>\n",
              "      <td>0.0</td>\n",
              "      <td>1.0</td>\n",
              "      <td>0.0</td>\n",
              "      <td>0.0</td>\n",
              "      <td>0.0</td>\n",
              "    </tr>\n",
              "    <tr>\n",
              "      <th>3</th>\n",
              "      <td>1988</td>\n",
              "      <td>27</td>\n",
              "      <td>0</td>\n",
              "      <td>0</td>\n",
              "      <td>0</td>\n",
              "      <td>0</td>\n",
              "      <td>1</td>\n",
              "      <td>1</td>\n",
              "      <td>0</td>\n",
              "      <td>0</td>\n",
              "      <td>0</td>\n",
              "      <td>0</td>\n",
              "      <td>0</td>\n",
              "      <td>0</td>\n",
              "      <td>0</td>\n",
              "      <td>0</td>\n",
              "      <td>0</td>\n",
              "      <td>1</td>\n",
              "      <td>0</td>\n",
              "      <td>0</td>\n",
              "      <td>0</td>\n",
              "      <td>0</td>\n",
              "      <td>0</td>\n",
              "      <td>0</td>\n",
              "      <td>1</td>\n",
              "      <td>17</td>\n",
              "      <td>10</td>\n",
              "      <td>0</td>\n",
              "      <td>0</td>\n",
              "      <td>0.588235</td>\n",
              "      <td>0</td>\n",
              "      <td>0.0</td>\n",
              "      <td>0.0</td>\n",
              "      <td>0.0</td>\n",
              "      <td>1.0</td>\n",
              "      <td>0.0</td>\n",
              "      <td>1.0</td>\n",
              "      <td>0.0</td>\n",
              "      <td>0.0</td>\n",
              "      <td>0.0</td>\n",
              "      <td>...</td>\n",
              "      <td>0.0</td>\n",
              "      <td>0.0</td>\n",
              "      <td>0.0</td>\n",
              "      <td>0.0</td>\n",
              "      <td>0.0</td>\n",
              "      <td>0.0</td>\n",
              "      <td>0.0</td>\n",
              "      <td>0.0</td>\n",
              "      <td>0.0</td>\n",
              "      <td>0.0</td>\n",
              "      <td>0.0</td>\n",
              "      <td>0.0</td>\n",
              "      <td>0.0</td>\n",
              "      <td>0.0</td>\n",
              "      <td>0.0</td>\n",
              "      <td>0.0</td>\n",
              "      <td>0.0</td>\n",
              "      <td>0.0</td>\n",
              "      <td>0.0</td>\n",
              "      <td>0.0</td>\n",
              "      <td>0.0</td>\n",
              "      <td>0.0</td>\n",
              "      <td>0.0</td>\n",
              "      <td>0.0</td>\n",
              "      <td>0.0</td>\n",
              "      <td>0.0</td>\n",
              "      <td>0.0</td>\n",
              "      <td>0.0</td>\n",
              "      <td>0.0</td>\n",
              "      <td>0.0</td>\n",
              "      <td>0.0</td>\n",
              "      <td>0.0</td>\n",
              "      <td>0.0</td>\n",
              "      <td>0.0</td>\n",
              "      <td>0.0</td>\n",
              "      <td>0.0</td>\n",
              "      <td>1.0</td>\n",
              "      <td>0.0</td>\n",
              "      <td>0.0</td>\n",
              "      <td>0.0</td>\n",
              "    </tr>\n",
              "    <tr>\n",
              "      <th>4</th>\n",
              "      <td>1988</td>\n",
              "      <td>38</td>\n",
              "      <td>0</td>\n",
              "      <td>0</td>\n",
              "      <td>0</td>\n",
              "      <td>0</td>\n",
              "      <td>0</td>\n",
              "      <td>0</td>\n",
              "      <td>0</td>\n",
              "      <td>0</td>\n",
              "      <td>0</td>\n",
              "      <td>0</td>\n",
              "      <td>0</td>\n",
              "      <td>0</td>\n",
              "      <td>0</td>\n",
              "      <td>0</td>\n",
              "      <td>0</td>\n",
              "      <td>0</td>\n",
              "      <td>0</td>\n",
              "      <td>0</td>\n",
              "      <td>0</td>\n",
              "      <td>0</td>\n",
              "      <td>0</td>\n",
              "      <td>0</td>\n",
              "      <td>1</td>\n",
              "      <td>17</td>\n",
              "      <td>10</td>\n",
              "      <td>0</td>\n",
              "      <td>0</td>\n",
              "      <td>0.588235</td>\n",
              "      <td>0</td>\n",
              "      <td>0.0</td>\n",
              "      <td>0.0</td>\n",
              "      <td>0.0</td>\n",
              "      <td>1.0</td>\n",
              "      <td>0.0</td>\n",
              "      <td>1.0</td>\n",
              "      <td>0.0</td>\n",
              "      <td>0.0</td>\n",
              "      <td>0.0</td>\n",
              "      <td>...</td>\n",
              "      <td>0.0</td>\n",
              "      <td>0.0</td>\n",
              "      <td>0.0</td>\n",
              "      <td>0.0</td>\n",
              "      <td>0.0</td>\n",
              "      <td>0.0</td>\n",
              "      <td>0.0</td>\n",
              "      <td>0.0</td>\n",
              "      <td>0.0</td>\n",
              "      <td>0.0</td>\n",
              "      <td>0.0</td>\n",
              "      <td>0.0</td>\n",
              "      <td>0.0</td>\n",
              "      <td>0.0</td>\n",
              "      <td>0.0</td>\n",
              "      <td>0.0</td>\n",
              "      <td>0.0</td>\n",
              "      <td>0.0</td>\n",
              "      <td>0.0</td>\n",
              "      <td>0.0</td>\n",
              "      <td>0.0</td>\n",
              "      <td>0.0</td>\n",
              "      <td>0.0</td>\n",
              "      <td>0.0</td>\n",
              "      <td>0.0</td>\n",
              "      <td>0.0</td>\n",
              "      <td>0.0</td>\n",
              "      <td>0.0</td>\n",
              "      <td>0.0</td>\n",
              "      <td>0.0</td>\n",
              "      <td>0.0</td>\n",
              "      <td>0.0</td>\n",
              "      <td>0.0</td>\n",
              "      <td>0.0</td>\n",
              "      <td>0.0</td>\n",
              "      <td>0.0</td>\n",
              "      <td>1.0</td>\n",
              "      <td>0.0</td>\n",
              "      <td>0.0</td>\n",
              "      <td>0.0</td>\n",
              "    </tr>\n",
              "  </tbody>\n",
              "</table>\n",
              "<p>5 rows × 515 columns</p>\n",
              "</div>"
            ],
            "text/plain": [
              "   myear  calcage  leader  deputy  support  ...  479  480  481  482  483\n",
              "0   1988       32       0       0        0  ...  0.0  1.0  0.0  0.0  0.0\n",
              "1   1988       40       0       0        0  ...  0.0  1.0  0.0  0.0  0.0\n",
              "2   1988       29       0       0        0  ...  0.0  1.0  0.0  0.0  0.0\n",
              "3   1988       27       0       0        0  ...  0.0  1.0  0.0  0.0  0.0\n",
              "4   1988       38       0       0        0  ...  0.0  1.0  0.0  0.0  0.0\n",
              "\n",
              "[5 rows x 515 columns]"
            ]
          },
          "metadata": {},
          "execution_count": 2
        }
      ]
    },
    {
      "cell_type": "code",
      "metadata": {
        "id": "jPgpuK6lH2Mx"
      },
      "source": [
        "y_summit = df.msuccess\n",
        "y_death = df.death\n",
        "X = df.drop(['msuccess', 'death'], axis=1)"
      ],
      "execution_count": 3,
      "outputs": []
    },
    {
      "cell_type": "markdown",
      "metadata": {
        "id": "R8ozHDIFpA4v"
      },
      "source": [
        "##Summit"
      ]
    },
    {
      "cell_type": "code",
      "metadata": {
        "id": "MVtphDDhNleO"
      },
      "source": [
        "X_summit_train, X_summit_valid, y_summit_train, y_summit_valid = train_test_split(\n",
        "    X, y_summit, train_size=0.8, test_size=0.2, random_state=0)"
      ],
      "execution_count": 4,
      "outputs": []
    },
    {
      "cell_type": "code",
      "metadata": {
        "colab": {
          "base_uri": "https://localhost:8080/"
        },
        "id": "RJ3If5FqkGry",
        "outputId": "1ad24ce2-c3a4-4ef2-f1c2-f5218b699670"
      },
      "source": [
        "summit_model = XGBClassifier(\n",
        "                             early_stopping_rounds=10,\n",
        "                             lr = 0.05,\n",
        "                             n_estimators=1000,\n",
        "                             verbosity=1,\n",
        "                             max_deapth=4\n",
        "                             \n",
        "                             )\n",
        "\n",
        "summit_model.fit(X_summit_train, y_summit_train)"
      ],
      "execution_count": 5,
      "outputs": [
        {
          "output_type": "execute_result",
          "data": {
            "text/plain": [
              "XGBClassifier(base_score=0.5, booster='gbtree', colsample_bylevel=1,\n",
              "              colsample_bynode=1, colsample_bytree=1, early_stopping_rounds=10,\n",
              "              gamma=0, learning_rate=0.1, lr=0.05, max_deapth=4,\n",
              "              max_delta_step=0, max_depth=3, min_child_weight=1, missing=None,\n",
              "              n_estimators=1000, n_jobs=1, nthread=None,\n",
              "              objective='binary:logistic', random_state=0, reg_alpha=0,\n",
              "              reg_lambda=1, scale_pos_weight=1, seed=None, silent=None,\n",
              "              subsample=1, verbosity=1)"
            ]
          },
          "metadata": {},
          "execution_count": 5
        }
      ]
    },
    {
      "cell_type": "code",
      "metadata": {
        "colab": {
          "base_uri": "https://localhost:8080/"
        },
        "id": "qkLFE9yTkJMP",
        "outputId": "c725662c-d451-4729-cf66-7d9c78b6e84b"
      },
      "source": [
        "summit_predictions = summit_model.predict(X_summit_valid)\n",
        "\n",
        "print(accuracy_score(y_summit_valid, summit_predictions))\n",
        "print(log_loss(y_summit_valid, summit_predictions))"
      ],
      "execution_count": 6,
      "outputs": [
        {
          "output_type": "stream",
          "name": "stdout",
          "text": [
            "0.9066937119675457\n",
            "3.2227427988323374\n"
          ]
        }
      ]
    },
    {
      "cell_type": "code",
      "metadata": {
        "colab": {
          "base_uri": "https://localhost:8080/",
          "height": 459
        },
        "id": "PzHw5SjIkJ9f",
        "outputId": "e4ea03e5-2d8a-4bf2-95a1-2f4d090d6a0d"
      },
      "source": [
        "plt.figure(figsize=(15, 6))\n",
        "\n",
        "summit_confusion = confusion_matrix(y_summit_valid, summit_predictions)\n",
        "\n",
        "s_acc = (summit_confusion[0][0] + summit_confusion[1][1])/ (summit_confusion[0][0]\n",
        "    + summit_confusion[0][1] + summit_confusion[1][0] + summit_confusion[1][1])\n",
        "s_ner = (summit_confusion[0][0] + summit_confusion[0][1]) / (summit_confusion[1][0]\n",
        "      + summit_confusion[1][1])\n",
        "s_missclass = (summit_confusion[0][1] + summit_confusion[1][0]) / (\n",
        "    summit_confusion[0][0] + summit_confusion[0][1] + summit_confusion[1][0] +\n",
        "    summit_confusion[1][1])\n",
        "s_tpr = summit_confusion[1][1] / (summit_confusion[1][0] + summit_confusion[1][1])\n",
        "s_fpr = summit_confusion[0][1] / (summit_confusion[0][0] + summit_confusion[0][1])\n",
        "s_tnr = summit_confusion[0][0] / (summit_confusion[0][0] + summit_confusion[0][1])\n",
        "s_fnr = summit_confusion[1][0] / (summit_confusion[1][0] + summit_confusion[1][1])\n",
        "s_prc = summit_confusion[1][1] / (summit_confusion[0][1] + summit_confusion[1][1])\n",
        "s_f_measure = 2 * ((s_tpr * s_prc) / (s_tpr + s_prc))\n",
        "\n",
        "print(\"Accuracy:\", s_acc)\n",
        "print(\"Null error rate:\", s_ner)\n",
        "print(\"Error rate:\", s_missclass)\n",
        "print(\"True Positive Rate:\", s_tpr) # Sensitivity also recall\n",
        "print(\"False Positive Rate:\", s_fpr) \n",
        "print(\"True Negitive Rate:\", s_tnr) # Specificty\n",
        "print(\"False Negitive Rate:\", s_fnr)\n",
        "print(\"Precision:\", s_prc)\n",
        "print(\"F-measure:\", s_f_measure)\n",
        "\n",
        "temp_con = []\n",
        "for i in summit_confusion:\n",
        "  temp = i / sum(i) * 100\n",
        "  temp_con.append(temp)\n",
        "\n",
        "summit_confusion = temp_con\n",
        "\n",
        "#summit_confusion = summit_confusion / len(y_summit_train)\n",
        "\n",
        "plt.matshow(summit_confusion, cmap = 'Blues')\n",
        "        \n",
        "for (i, j), z in np.ndenumerate(summit_confusion):\n",
        "    if(0 < z < 50):\n",
        "        plt.text(j, i, '{0:0.2f}'.format(z), ha='center', va='center', color =\n",
        "                 'black')\n",
        "        \n",
        "    else:\n",
        "        plt.text(j, i, '{0:0.2f}'.format(z), ha='center', va='center', color =\n",
        "                 'white')\n",
        "plt.ylabel(\"Truth\")\n",
        "plt.xlabel(\"Prediction\")\n",
        "plt.tick_params(bottom = False, top = True, labelbottom = True, labeltop = False)\n",
        "plt.grid(True, which = 'minor')\n",
        "#plt.savefig(\"Graphs/.png\", bbox_inches='tight', dpi=600)"
      ],
      "execution_count": 7,
      "outputs": [
        {
          "output_type": "stream",
          "name": "stdout",
          "text": [
            "Accuracy: 0.9066937119675457\n",
            "Null error rate: 0.9879032258064516\n",
            "Error rate: 0.09330628803245436\n",
            "True Positive Rate: 0.9581653225806451\n",
            "False Positive Rate: 0.14540816326530612\n",
            "True Negitive Rate: 0.8545918367346939\n",
            "False Negitive Rate: 0.041834677419354836\n",
            "Precision: 0.8696248856358646\n",
            "F-measure: 0.9117505995203837\n"
          ]
        },
        {
          "output_type": "display_data",
          "data": {
            "text/plain": [
              "<Figure size 1080x432 with 0 Axes>"
            ]
          },
          "metadata": {}
        },
        {
          "output_type": "display_data",
          "data": {
            "image/png": "[encoded data removed]",
            "text/plain": [
              "<Figure size 288x288 with 1 Axes>"
            ]
          },
          "metadata": {
            "needs_background": "light"
          }
        }
      ]
    },
    {
      "cell_type": "markdown",
      "metadata": {
        "id": "PeA6TBHjo9kg"
      },
      "source": [
        "##Death"
      ]
    },
    {
      "cell_type": "code",
      "metadata": {
        "id": "1dN-uJLENoko"
      },
      "source": [
        "X_death_train, X_death_valid, y_death_train, y_death_valid = train_test_split(\n",
        "    X, y_death, train_size=0.8, test_size=0.2, random_state=0)"
      ],
      "execution_count": 8,
      "outputs": []
    },
    {
      "cell_type": "code",
      "metadata": {
        "colab": {
          "base_uri": "https://localhost:8080/"
        },
        "id": "9pyOOGYVniRf",
        "outputId": "8ba1dd70-6665-43c1-90a5-6414b89ca84b"
      },
      "source": [
        "death_model = XGBClassifier(\n",
        "                            early_stopping_rounds=10,\n",
        "                            lr = 0.05,\n",
        "                            n_estimators=1000,\n",
        "                            verbosity=1,\n",
        "                            max_deapth=4\n",
        "                            )\n",
        "\n",
        "death_model.fit(X_death_train, y_death_train)"
      ],
      "execution_count": 9,
      "outputs": [
        {
          "output_type": "execute_result",
          "data": {
            "text/plain": [
              "XGBClassifier(base_score=0.5, booster='gbtree', colsample_bylevel=1,\n",
              "              colsample_bynode=1, colsample_bytree=1, early_stopping_rounds=10,\n",
              "              gamma=0, learning_rate=0.1, lr=0.05, max_deapth=4,\n",
              "              max_delta_step=0, max_depth=3, min_child_weight=1, missing=None,\n",
              "              n_estimators=1000, n_jobs=1, nthread=None,\n",
              "              objective='binary:logistic', random_state=0, reg_alpha=0,\n",
              "              reg_lambda=1, scale_pos_weight=1, seed=None, silent=None,\n",
              "              subsample=1, verbosity=1)"
            ]
          },
          "metadata": {},
          "execution_count": 9
        }
      ]
    },
    {
      "cell_type": "code",
      "metadata": {
        "colab": {
          "base_uri": "https://localhost:8080/"
        },
        "id": "pQ0rFYo9o7cL",
        "outputId": "588e3864-80f1-4d77-ac63-cf3a1cbd0abe"
      },
      "source": [
        "death_predictions = death_model.predict(X_death_valid)\n",
        "\n",
        "print(accuracy_score(y_death_valid, death_predictions))\n",
        "print(log_loss(y_death_valid, death_predictions))"
      ],
      "execution_count": 10,
      "outputs": [
        {
          "output_type": "stream",
          "name": "stdout",
          "text": [
            "0.9903651115618661\n",
            "0.33277887925609817\n"
          ]
        }
      ]
    },
    {
      "cell_type": "code",
      "metadata": {
        "colab": {
          "base_uri": "https://localhost:8080/",
          "height": 459
        },
        "id": "uD0PI0Kuo8vh",
        "outputId": "75762c5b-937d-4807-fae4-1969143ab856"
      },
      "source": [
        "plt.figure(figsize=(15, 6))\n",
        "\n",
        "death_confusion = confusion_matrix(y_death_valid, death_predictions)\n",
        "\n",
        "d_acc = (death_confusion[0][0] + death_confusion[1][1])/ (death_confusion[0][0]\n",
        "    + death_confusion[0][1] + death_confusion[1][0] + death_confusion[1][1])\n",
        "d_ner = (death_confusion[1][0] + death_confusion[1][1]) / (death_confusion[0][0]\n",
        "      + death_confusion[0][1])\n",
        "d_missclass = (death_confusion[0][1] + death_confusion[1][0]) / (\n",
        "    death_confusion[0][0] + death_confusion[0][1] + death_confusion[1][0] +\n",
        "    death_confusion[1][1])\n",
        "d_tpr = death_confusion[1][1] / (death_confusion[1][0] + death_confusion[1][1])\n",
        "d_fpr = death_confusion[0][1] / (death_confusion[0][0] + death_confusion[0][1])\n",
        "d_tnr = death_confusion[0][0] / (death_confusion[0][0] + death_confusion[0][1])\n",
        "d_fnr = death_confusion[1][0] / (death_confusion[1][0] + death_confusion[1][1])\n",
        "d_prc = death_confusion[1][1] / (death_confusion[0][1] + death_confusion[1][1])\n",
        "d_f_measure = 2 * ((d_tpr * d_prc) / (d_tpr + d_prc))\n",
        "\n",
        "print(\"Accuracy:\", d_acc)\n",
        "print(\"Null error rate:\", d_ner)\n",
        "print(\"Error rate:\", d_missclass)\n",
        "print(\"True Positive Rate:\", d_tpr)\n",
        "print(\"False Positive Rate:\", d_fpr)\n",
        "print(\"True Negitive Rate:\", d_tnr)\n",
        "print(\"False Negitive Rate:\", d_fnr)\n",
        "print(\"Precision:\", d_prc)\n",
        "print(\"F-measure:\", d_f_measure)\n",
        "\n",
        "temp_con = []\n",
        "for i in death_confusion:\n",
        "  temp = i / sum(i) * 100\n",
        "  temp_con.append(temp)\n",
        "\n",
        "death_confusion = temp_con\n",
        "\n",
        "plt.matshow(death_confusion, cmap = 'Blues')\n",
        "        \n",
        "for (i, j), z in np.ndenumerate(death_confusion):\n",
        "    if(0 < z < 50):\n",
        "        plt.text(j, i, '{0:0.2f}'.format(z), ha='center', va='center', color =\n",
        "                 'black')\n",
        "        \n",
        "    else:\n",
        "        plt.text(j, i, '{0:0.2f}'.format(z), ha='center', va='center', color =\n",
        "                 'white')\n",
        "plt.ylabel(\"Truth\")\n",
        "plt.xlabel(\"Prediction\")\n",
        "plt.tick_params(bottom = False, top = True, labelbottom = True, labeltop = False)\n",
        "plt.grid(True, which = 'minor')\n",
        "#plt.savefig(\"Graphs/.png\", bbox_inches='tight', dpi=600)"
      ],
      "execution_count": 11,
      "outputs": [
        {
          "output_type": "stream",
          "name": "stdout",
          "text": [
            "Accuracy: 0.9903651115618661\n",
            "Null error rate: 0.010504739943633103\n",
            "Error rate: 0.009634888438133874\n",
            "True Positive Rate: 0.2682926829268293\n",
            "False Positive Rate: 0.0020497053548552396\n",
            "True Negitive Rate: 0.9979502946451447\n",
            "False Negitive Rate: 0.7317073170731707\n",
            "Precision: 0.5789473684210527\n",
            "F-measure: 0.36666666666666664\n"
          ]
        },
        {
          "output_type": "display_data",
          "data": {
            "text/plain": [
              "<Figure size 1080x432 with 0 Axes>"
            ]
          },
          "metadata": {}
        },
        {
          "output_type": "display_data",
          "data": {
            "image/png": "[encoded data removed]",
            "text/plain": [
              "<Figure size 288x288 with 1 Axes>"
            ]
          },
          "metadata": {
            "needs_background": "light"
          }
        }
      ]
    },
    {
      "cell_type": "markdown",
      "metadata": {
        "id": "5sYucrz1V3Wy"
      },
      "source": [
        "##Death with undersampling\n"
      ]
    },
    {
      "cell_type": "code",
      "metadata": {
        "id": "d26uTWVCwhYp",
        "colab": {
          "base_uri": "https://localhost:8080/"
        },
        "outputId": "d95f4c66-8f7f-4581-fd7b-db570de82b49"
      },
      "source": [
        "from imblearn.under_sampling import RandomUnderSampler\n",
        "\n",
        "sampler = RandomUnderSampler(random_state = 0, replacement=True)\n",
        "\n",
        "X_death_resampled_u, y_death_resampled_u = sampler.fit_resample(X_death_train,\n",
        "                                                            y_death_train,\n",
        "                                                            )\n",
        "X_death_resampled_u = pd.DataFrame(X_death_resampled_u, columns=X_death_valid.columns)\n",
        "y_death_resampled_u = pd.Series(y_death_resampled_u)"
      ],
      "execution_count": 12,
      "outputs": [
        {
          "output_type": "stream",
          "name": "stderr",
          "text": [
            "/usr/local/lib/python3.7/dist-packages/sklearn/externals/six.py:31: FutureWarning: The module is deprecated in version 0.21 and will be removed in version 0.23 since we've dropped support for Python 2.7. Please rely on the official version of six (https://pypi.org/project/six/).\n",
            "  \"(https://pypi.org/project/six/).\", FutureWarning)\n",
            "/usr/local/lib/python3.7/dist-packages/sklearn/utils/deprecation.py:144: FutureWarning: The sklearn.neighbors.base module is  deprecated in version 0.22 and will be removed in version 0.24. The corresponding classes / functions should instead be imported from sklearn.neighbors. Anything that cannot be imported from sklearn.neighbors is now part of the private API.\n",
            "  warnings.warn(message, FutureWarning)\n",
            "/usr/local/lib/python3.7/dist-packages/sklearn/utils/deprecation.py:87: FutureWarning: Function safe_indexing is deprecated; safe_indexing is deprecated in version 0.22 and will be removed in version 0.24.\n",
            "  warnings.warn(msg, category=FutureWarning)\n"
          ]
        }
      ]
    },
    {
      "cell_type": "code",
      "metadata": {
        "colab": {
          "base_uri": "https://localhost:8080/"
        },
        "id": "506U1m_hWCGV",
        "outputId": "6e91d28a-ce82-4d6f-cf03-5e994cd63982"
      },
      "source": [
        "death_model_u = XGBClassifier(\n",
        "                            early_stopping_rounds=10,\n",
        "                            lr = 0.05,\n",
        "                            n_estimators=1000,\n",
        "                            verbosity=1,\n",
        "                            max_deapth=6,\n",
        "                            )\n",
        "\n",
        "death_model_u.fit(X_death_resampled_u, y_death_resampled_u)"
      ],
      "execution_count": 13,
      "outputs": [
        {
          "output_type": "execute_result",
          "data": {
            "text/plain": [
              "XGBClassifier(base_score=0.5, booster='gbtree', colsample_bylevel=1,\n",
              "              colsample_bynode=1, colsample_bytree=1, early_stopping_rounds=10,\n",
              "              gamma=0, learning_rate=0.1, lr=0.05, max_deapth=6,\n",
              "              max_delta_step=0, max_depth=3, min_child_weight=1, missing=None,\n",
              "              n_estimators=1000, n_jobs=1, nthread=None,\n",
              "              objective='binary:logistic', random_state=0, reg_alpha=0,\n",
              "              reg_lambda=1, scale_pos_weight=1, seed=None, silent=None,\n",
              "              subsample=1, verbosity=1)"
            ]
          },
          "metadata": {},
          "execution_count": 13
        }
      ]
    },
    {
      "cell_type": "code",
      "metadata": {
        "colab": {
          "base_uri": "https://localhost:8080/"
        },
        "id": "j3vGkH6lWGWx",
        "outputId": "342cdddd-6e5e-4d86-d05c-167ea9542127"
      },
      "source": [
        "death_predictions_u = death_model_u.predict(X_death_valid)\n",
        "\n",
        "print(accuracy_score(y_death_valid, death_predictions_u))\n",
        "print(log_loss(y_death_valid, death_predictions_u))"
      ],
      "execution_count": 14,
      "outputs": [
        {
          "output_type": "stream",
          "name": "stdout",
          "text": [
            "0.7238843813387424\n",
            "9.536914366045872\n"
          ]
        }
      ]
    },
    {
      "cell_type": "code",
      "metadata": {
        "colab": {
          "base_uri": "https://localhost:8080/",
          "height": 459
        },
        "id": "W3sFqYeRWH95",
        "outputId": "8b0e3a97-ab92-4e8c-a676-c7a682eadecb"
      },
      "source": [
        "plt.figure(figsize=(15, 6))\n",
        "\n",
        "death_confusion_u = confusion_matrix(y_death_valid, death_predictions_u)\n",
        "\n",
        "d_acc_u = (death_confusion_u[0][0] + death_confusion_u[1][1])/ (death_confusion_u[0][0]\n",
        "    + death_confusion_u[0][1] + death_confusion_u[1][0] + death_confusion_u[1][1])\n",
        "d_ner_u = (death_confusion_u[1][0] + death_confusion_u[1][1]) / (death_confusion_u[0][0]\n",
        "      + death_confusion_u[0][1])\n",
        "d_missclass_u = (death_confusion_u[0][1] + death_confusion_u[1][0]) / (\n",
        "    death_confusion_u[0][0] + death_confusion_u[0][1] + death_confusion_u[1][0] +\n",
        "    death_confusion_u[1][1])\n",
        "d_tpr_u = death_confusion_u[1][1] / (death_confusion_u[1][0] + death_confusion_u[1][1])\n",
        "d_fpr_u = death_confusion_u[0][1] / (death_confusion_u[0][0] + death_confusion_u[0][1])\n",
        "d_tnr_u = death_confusion_u[0][0] / (death_confusion_u[0][0] + death_confusion_u[0][1])\n",
        "d_fnr_u = death_confusion_u[1][0] / (death_confusion_u[1][0] + death_confusion_u[1][1])\n",
        "d_prc_u = death_confusion_u[1][1] / (death_confusion_u[0][1] + death_confusion_u[1][1])\n",
        "d_f_measure_u = 2 * ((d_tpr_u * d_prc_u) / (d_tpr_u + d_prc_u))\n",
        "\n",
        "print(\"Accuracy:\", d_acc_u)\n",
        "print(\"Null error rate:\", d_ner_u)\n",
        "print(\"Error rate:\", d_missclass_u)\n",
        "print(\"True Positive Rate:\", d_tpr_u)\n",
        "print(\"False Positive Rate:\", d_fpr_u)\n",
        "print(\"True Negitive Rate:\", d_tnr_u)\n",
        "print(\"False Negitive Rate:\", d_fnr_u)\n",
        "print(\"Precision:\", d_prc_u)\n",
        "print(\"F-measure:\", d_f_measure_u)\n",
        "\n",
        "temp_con = []\n",
        "for i in death_confusion_u:\n",
        "  temp = i / sum(i) * 100\n",
        "  temp_con.append(temp)\n",
        "\n",
        "death_confusion_u = temp_con\n",
        "\n",
        "plt.matshow(death_confusion_u, cmap = 'Blues')\n",
        "        \n",
        "for (i, j), z in np.ndenumerate(death_confusion_u):\n",
        "    if(0 < z < 50):\n",
        "        plt.text(j, i, '{0:0.2f}'.format(z), ha='center', va='center', color =\n",
        "                 'black')\n",
        "        \n",
        "    else:\n",
        "        plt.text(j, i, '{0:0.2f}'.format(z), ha='center', va='center', color =\n",
        "                 'white')\n",
        "plt.ylabel(\"Truth\")\n",
        "plt.xlabel(\"Prediction\")\n",
        "plt.tick_params(bottom = False, top = True, labelbottom = True, labeltop = False)\n",
        "plt.grid(True, which = 'minor')\n",
        "#plt.savefig(\"Graphs/.png\", bbox_inches='tight', dpi=600)"
      ],
      "execution_count": 15,
      "outputs": [
        {
          "output_type": "stream",
          "name": "stdout",
          "text": [
            "Accuracy: 0.7238843813387424\n",
            "Null error rate: 0.010504739943633103\n",
            "Error rate: 0.2761156186612576\n",
            "True Positive Rate: 0.7560975609756098\n",
            "False Positive Rate: 0.27645400973610046\n",
            "True Negitive Rate: 0.7235459902638995\n",
            "False Negitive Rate: 0.24390243902439024\n",
            "Precision: 0.027927927927927927\n",
            "F-measure: 0.05386620330147698\n"
          ]
        },
        {
          "output_type": "display_data",
          "data": {
            "text/plain": [
              "<Figure size 1080x432 with 0 Axes>"
            ]
          },
          "metadata": {}
        },
        {
          "output_type": "display_data",
          "data": {
            "image/png": "[encoded data removed]",
            "text/plain": [
              "<Figure size 288x288 with 1 Axes>"
            ]
          },
          "metadata": {
            "needs_background": "light"
          }
        }
      ]
    },
    {
      "cell_type": "markdown",
      "metadata": {
        "id": "5vHwxNsFjbx2"
      },
      "source": [
        "##Death with oversampling\n"
      ]
    },
    {
      "cell_type": "code",
      "metadata": {
        "colab": {
          "base_uri": "https://localhost:8080/"
        },
        "id": "sEzgdR5vjbx3",
        "outputId": "5f13da42-23d9-4527-ad37-92fef1602a1c"
      },
      "source": [
        "from imblearn.over_sampling import SMOTE\n",
        "\n",
        "sampler = SMOTE(random_state = 0)\n",
        "\n",
        "X_death_resampled_o, y_death_resampled_o = sampler.fit_resample(X_death_train,\n",
        "                                                                y_death_train,\n",
        "                                                                )\n",
        "\n",
        "X_death_resampled_o = pd.DataFrame(X_death_resampled_o,\n",
        "                                   columns=X_death_valid.columns)\n",
        "y_death_resampled_o = pd.Series(y_death_resampled_o)"
      ],
      "execution_count": 16,
      "outputs": [
        {
          "output_type": "stream",
          "name": "stderr",
          "text": [
            "/usr/local/lib/python3.7/dist-packages/sklearn/utils/deprecation.py:87: FutureWarning: Function safe_indexing is deprecated; safe_indexing is deprecated in version 0.22 and will be removed in version 0.24.\n",
            "  warnings.warn(msg, category=FutureWarning)\n"
          ]
        }
      ]
    },
    {
      "cell_type": "code",
      "metadata": {
        "colab": {
          "base_uri": "https://localhost:8080/"
        },
        "id": "afvwp0-Zjbx3",
        "outputId": "8d8805cc-ae9b-4880-b938-c2c0c282036b"
      },
      "source": [
        "death_model_o = XGBClassifier(\n",
        "                            early_stopping_rounds=10,\n",
        "                            lr = 0.05,\n",
        "                            n_estimators=1000,\n",
        "                            verbosity=1,\n",
        "                            max_deapth=6,\n",
        "                            )\n",
        "\n",
        "death_model_o.fit(X_death_resampled_o, y_death_resampled_o)"
      ],
      "execution_count": 17,
      "outputs": [
        {
          "output_type": "execute_result",
          "data": {
            "text/plain": [
              "XGBClassifier(base_score=0.5, booster='gbtree', colsample_bylevel=1,\n",
              "              colsample_bynode=1, colsample_bytree=1, early_stopping_rounds=10,\n",
              "              gamma=0, learning_rate=0.1, lr=0.05, max_deapth=6,\n",
              "              max_delta_step=0, max_depth=3, min_child_weight=1, missing=None,\n",
              "              n_estimators=1000, n_jobs=1, nthread=None,\n",
              "              objective='binary:logistic', random_state=0, reg_alpha=0,\n",
              "              reg_lambda=1, scale_pos_weight=1, seed=None, silent=None,\n",
              "              subsample=1, verbosity=1)"
            ]
          },
          "metadata": {},
          "execution_count": 17
        }
      ]
    },
    {
      "cell_type": "code",
      "metadata": {
        "colab": {
          "base_uri": "https://localhost:8080/"
        },
        "id": "qP6eoRNqjbx3",
        "outputId": "6fc85d71-aa01-4382-c65a-9ef7a91db439"
      },
      "source": [
        "death_predictions_o = death_model_o.predict(X_death_valid)\n",
        "\n",
        "print(accuracy_score(y_death_valid, death_predictions_o))\n",
        "print(log_loss(y_death_valid, death_predictions_o))"
      ],
      "execution_count": 18,
      "outputs": [
        {
          "output_type": "stream",
          "name": "stdout",
          "text": [
            "0.9890973630831643\n",
            "0.3765663741753944\n"
          ]
        }
      ]
    },
    {
      "cell_type": "code",
      "metadata": {
        "colab": {
          "base_uri": "https://localhost:8080/",
          "height": 459
        },
        "id": "sPEhpg4Ojbx4",
        "outputId": "c5e1b5f3-6ceb-4445-c9fd-dd7b93af651d"
      },
      "source": [
        "plt.figure(figsize=(15, 6))\n",
        "\n",
        "death_confusion_o = confusion_matrix(y_death_valid, death_predictions_o)\n",
        "\n",
        "d_acc_o = (death_confusion_o[0][0] + death_confusion_o[1][1])/ (death_confusion_o[0][0]\n",
        "    + death_confusion_o[0][1] + death_confusion_o[1][0] + death_confusion_o[1][1])\n",
        "d_ner_o = (death_confusion_o[1][0] + death_confusion_o[1][1]) / (death_confusion_o[0][0]\n",
        "      + death_confusion_o[0][1])\n",
        "d_missclass_o = (death_confusion_o[0][1] + death_confusion_o[1][0]) / (\n",
        "    death_confusion_o[0][0] + death_confusion_o[0][1] + death_confusion_o[1][0] +\n",
        "    death_confusion_o[1][1])\n",
        "d_tpr_o = death_confusion_o[1][1] / (death_confusion_o[1][0] + death_confusion_o[1][1])\n",
        "d_fpr_o = death_confusion_o[0][1] / (death_confusion_o[0][0] + death_confusion_o[0][1])\n",
        "d_tnr_o = death_confusion_o[0][0] / (death_confusion_o[0][0] + death_confusion_o[0][1])\n",
        "d_fnr_o = death_confusion_o[1][0] / (death_confusion_o[1][0] + death_confusion_o[1][1])\n",
        "d_prc_o = death_confusion_o[1][1] / (death_confusion_o[0][1] + death_confusion_o[1][1])\n",
        "d_f_measure_o = 2 * ((d_tpr_o * d_prc_o) / (d_tpr_o + d_prc_o))\n",
        "\n",
        "print(\"Accuracy:\", d_acc_o)\n",
        "print(\"Null error rate:\", d_ner_o)\n",
        "print(\"Error rate:\", d_missclass_o)\n",
        "print(\"True Positive Rate:\", d_tpr_o)\n",
        "print(\"False Positive Rate:\", d_fpr_o)\n",
        "print(\"True Negitive Rate:\", d_tnr_o)\n",
        "print(\"False Negitive Rate:\", d_fnr_o)\n",
        "print(\"Precision:\", d_prc_o)\n",
        "print(\"F-measure:\", d_f_measure_o)\n",
        "\n",
        "temp_con = []\n",
        "for i in death_confusion_o:\n",
        "  temp = i / sum(i) * 100\n",
        "  temp_con.append(temp)\n",
        "\n",
        "death_confusion_o = temp_con\n",
        "\n",
        "plt.matshow(death_confusion_o, cmap = 'Blues')\n",
        "        \n",
        "for (i, j), z in np.ndenumerate(death_confusion_o):\n",
        "    if(0 < z < 50):\n",
        "        plt.text(j, i, '{0:0.2f}'.format(z), ha='center', va='center', color =\n",
        "                 'black')\n",
        "        \n",
        "    else:\n",
        "        plt.text(j, i, '{0:0.2f}'.format(z), ha='center', va='center', color =\n",
        "                 'white')\n",
        "plt.ylabel(\"Truth\")\n",
        "plt.xlabel(\"Prediction\")\n",
        "plt.tick_params(bottom = False, top = True, labelbottom = True, labeltop = False)\n",
        "plt.grid(True, which = 'minor')\n",
        "#plt.savefig(\"Graphs/.png\", bbox_inches='tight', dpi=600)"
      ],
      "execution_count": 19,
      "outputs": [
        {
          "output_type": "stream",
          "name": "stdout",
          "text": [
            "Accuracy: 0.9890973630831643\n",
            "Null error rate: 0.010504739943633103\n",
            "Error rate: 0.0109026369168357\n",
            "True Positive Rate: 0.2682926829268293\n",
            "False Positive Rate: 0.003330771201639764\n",
            "True Negitive Rate: 0.9966692287983603\n",
            "False Negitive Rate: 0.7317073170731707\n",
            "Precision: 0.4583333333333333\n",
            "F-measure: 0.3384615384615385\n"
          ]
        },
        {
          "output_type": "display_data",
          "data": {
            "text/plain": [
              "<Figure size 1080x432 with 0 Axes>"
            ]
          },
          "metadata": {}
        },
        {
          "output_type": "display_data",
          "data": {
            "image/png": "[encoded data removed]",
            "text/plain": [
              "<Figure size 288x288 with 1 Axes>"
            ]
          },
          "metadata": {
            "needs_background": "light"
          }
        }
      ]
    }
  ]
}