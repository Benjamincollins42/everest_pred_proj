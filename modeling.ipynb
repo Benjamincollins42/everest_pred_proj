{
  "nbformat": 4,
  "nbformat_minor": 0,
  "metadata": {
    "colab": {
      "name": "modeling.ipynb",
      "provenance": [],
      "collapsed_sections": [
        "Wvw7AjDk4UUL",
        "w-Z_a7nM4dee",
        "A5xsuPukf1FF",
        "R8ozHDIFpA4v",
        "UpZiZ3NqXmAI",
        "hnLVLVHAiAdx",
        "A4kJUth_WGom",
        "PeA6TBHjo9kg",
        "mg7UdBlR2Hxj",
        "5sYucrz1V3Wy",
        "5vHwxNsFjbx2"
      ]
    },
    "kernelspec": {
      "name": "python3",
      "display_name": "Python 3"
    },
    "language_info": {
      "name": "python"
    }
  },
  "cells": [
    {
      "cell_type": "code",
      "metadata": {
        "id": "cI7D5-XSG_GW"
      },
      "source": [
        "import numpy as np\n",
        "import pandas as pd\n",
        "import matplotlib.pyplot as plt\n",
        "import seaborn as sns\n",
        "from sklearn.model_selection import train_test_split\n",
        "from xgboost import XGBClassifier\n",
        "from sklearn.metrics import accuracy_score, log_loss, classification_report, confusion_matrix\n",
        "from collections import Counter\n",
        "\n",
        "from imblearn.under_sampling import RandomUnderSampler\n",
        "from imblearn.over_sampling import SMOTE"
      ],
      "execution_count": null,
      "outputs": []
    },
    {
      "cell_type": "markdown",
      "metadata": {
        "id": "OOdd0y0zirPF"
      },
      "source": [
        "###Data Loading"
      ]
    },
    {
      "cell_type": "markdown",
      "metadata": {
        "id": "Wvw7AjDk4UUL"
      },
      "source": [
        "###All data"
      ]
    },
    {
      "cell_type": "code",
      "metadata": {
        "colab": {
          "base_uri": "https://localhost:8080/",
          "height": 256
        },
        "id": "Oqn2pKQ4Hl8r",
        "outputId": "a09752b4-0b9a-480e-b24f-69cc5dcde307"
      },
      "source": [
        "df = pd.read_csv('fully_processed_data.csv')\n",
        "df = df.drop('Unnamed: 0', axis=1)\n",
        "df.head()"
      ],
      "execution_count": null,
      "outputs": [
        {
          "output_type": "execute_result",
          "data": {
            "text/html": [
              "<div>\n",
              "<style scoped>\n",
              "    .dataframe tbody tr th:only-of-type {\n",
              "        vertical-align: middle;\n",
              "    }\n",
              "\n",
              "    .dataframe tbody tr th {\n",
              "        vertical-align: top;\n",
              "    }\n",
              "\n",
              "    .dataframe thead th {\n",
              "        text-align: right;\n",
              "    }\n",
              "</style>\n",
              "<table border=\"1\" class=\"dataframe\">\n",
              "  <thead>\n",
              "    <tr style=\"text-align: right;\">\n",
              "      <th></th>\n",
              "      <th>myear</th>\n",
              "      <th>calcage</th>\n",
              "      <th>leader</th>\n",
              "      <th>deputy</th>\n",
              "      <th>support</th>\n",
              "      <th>disabled</th>\n",
              "      <th>hired</th>\n",
              "      <th>sherpa</th>\n",
              "      <th>tibetan</th>\n",
              "      <th>msuccess</th>\n",
              "      <th>mclaimed</th>\n",
              "      <th>mdisputed</th>\n",
              "      <th>msolo</th>\n",
              "      <th>mtraverse</th>\n",
              "      <th>mski</th>\n",
              "      <th>mparapente</th>\n",
              "      <th>mspeed</th>\n",
              "      <th>mo2none</th>\n",
              "      <th>mo2climb</th>\n",
              "      <th>mo2descent</th>\n",
              "      <th>mo2sleep</th>\n",
              "      <th>mo2medical</th>\n",
              "      <th>death</th>\n",
              "      <th>hcn</th>\n",
              "      <th>host</th>\n",
              "      <th>totmembers</th>\n",
              "      <th>tothired</th>\n",
              "      <th>nohired</th>\n",
              "      <th>citizen_is_nation</th>\n",
              "      <th>hired_ratio</th>\n",
              "      <th>same_nat_as_leader</th>\n",
              "      <th>prev_summit</th>\n",
              "      <th>prev_attempt</th>\n",
              "      <th>0</th>\n",
              "      <th>1</th>\n",
              "      <th>2</th>\n",
              "      <th>3</th>\n",
              "      <th>4</th>\n",
              "      <th>5</th>\n",
              "      <th>6</th>\n",
              "      <th>...</th>\n",
              "      <th>444</th>\n",
              "      <th>445</th>\n",
              "      <th>446</th>\n",
              "      <th>447</th>\n",
              "      <th>448</th>\n",
              "      <th>449</th>\n",
              "      <th>450</th>\n",
              "      <th>451</th>\n",
              "      <th>452</th>\n",
              "      <th>453</th>\n",
              "      <th>454</th>\n",
              "      <th>455</th>\n",
              "      <th>456</th>\n",
              "      <th>457</th>\n",
              "      <th>458</th>\n",
              "      <th>459</th>\n",
              "      <th>460</th>\n",
              "      <th>461</th>\n",
              "      <th>462</th>\n",
              "      <th>463</th>\n",
              "      <th>464</th>\n",
              "      <th>465</th>\n",
              "      <th>466</th>\n",
              "      <th>467</th>\n",
              "      <th>468</th>\n",
              "      <th>469</th>\n",
              "      <th>470</th>\n",
              "      <th>471</th>\n",
              "      <th>472</th>\n",
              "      <th>473</th>\n",
              "      <th>474</th>\n",
              "      <th>475</th>\n",
              "      <th>476</th>\n",
              "      <th>477</th>\n",
              "      <th>478</th>\n",
              "      <th>479</th>\n",
              "      <th>480</th>\n",
              "      <th>481</th>\n",
              "      <th>482</th>\n",
              "      <th>483</th>\n",
              "    </tr>\n",
              "  </thead>\n",
              "  <tbody>\n",
              "    <tr>\n",
              "      <th>0</th>\n",
              "      <td>1988</td>\n",
              "      <td>32</td>\n",
              "      <td>0</td>\n",
              "      <td>0</td>\n",
              "      <td>0</td>\n",
              "      <td>0</td>\n",
              "      <td>0</td>\n",
              "      <td>0</td>\n",
              "      <td>0</td>\n",
              "      <td>0</td>\n",
              "      <td>0</td>\n",
              "      <td>0</td>\n",
              "      <td>0</td>\n",
              "      <td>0</td>\n",
              "      <td>0</td>\n",
              "      <td>0</td>\n",
              "      <td>0</td>\n",
              "      <td>0</td>\n",
              "      <td>1</td>\n",
              "      <td>0</td>\n",
              "      <td>1</td>\n",
              "      <td>0</td>\n",
              "      <td>0</td>\n",
              "      <td>0</td>\n",
              "      <td>0</td>\n",
              "      <td>17</td>\n",
              "      <td>10</td>\n",
              "      <td>0</td>\n",
              "      <td>1</td>\n",
              "      <td>0.588235</td>\n",
              "      <td>1</td>\n",
              "      <td>0</td>\n",
              "      <td>0</td>\n",
              "      <td>0.0</td>\n",
              "      <td>0.0</td>\n",
              "      <td>0.0</td>\n",
              "      <td>1.0</td>\n",
              "      <td>0.0</td>\n",
              "      <td>1.0</td>\n",
              "      <td>0.0</td>\n",
              "      <td>...</td>\n",
              "      <td>0.0</td>\n",
              "      <td>0.0</td>\n",
              "      <td>0.0</td>\n",
              "      <td>0.0</td>\n",
              "      <td>0.0</td>\n",
              "      <td>0.0</td>\n",
              "      <td>0.0</td>\n",
              "      <td>0.0</td>\n",
              "      <td>0.0</td>\n",
              "      <td>0.0</td>\n",
              "      <td>0.0</td>\n",
              "      <td>0.0</td>\n",
              "      <td>0.0</td>\n",
              "      <td>0.0</td>\n",
              "      <td>0.0</td>\n",
              "      <td>0.0</td>\n",
              "      <td>0.0</td>\n",
              "      <td>0.0</td>\n",
              "      <td>0.0</td>\n",
              "      <td>0.0</td>\n",
              "      <td>0.0</td>\n",
              "      <td>0.0</td>\n",
              "      <td>0.0</td>\n",
              "      <td>0.0</td>\n",
              "      <td>0.0</td>\n",
              "      <td>0.0</td>\n",
              "      <td>0.0</td>\n",
              "      <td>0.0</td>\n",
              "      <td>0.0</td>\n",
              "      <td>0.0</td>\n",
              "      <td>0.0</td>\n",
              "      <td>0.0</td>\n",
              "      <td>0.0</td>\n",
              "      <td>0.0</td>\n",
              "      <td>0.0</td>\n",
              "      <td>0.0</td>\n",
              "      <td>1.0</td>\n",
              "      <td>0.0</td>\n",
              "      <td>0.0</td>\n",
              "      <td>0.0</td>\n",
              "    </tr>\n",
              "    <tr>\n",
              "      <th>1</th>\n",
              "      <td>1988</td>\n",
              "      <td>40</td>\n",
              "      <td>0</td>\n",
              "      <td>0</td>\n",
              "      <td>0</td>\n",
              "      <td>0</td>\n",
              "      <td>1</td>\n",
              "      <td>1</td>\n",
              "      <td>0</td>\n",
              "      <td>0</td>\n",
              "      <td>0</td>\n",
              "      <td>0</td>\n",
              "      <td>0</td>\n",
              "      <td>0</td>\n",
              "      <td>0</td>\n",
              "      <td>0</td>\n",
              "      <td>0</td>\n",
              "      <td>1</td>\n",
              "      <td>0</td>\n",
              "      <td>0</td>\n",
              "      <td>0</td>\n",
              "      <td>0</td>\n",
              "      <td>0</td>\n",
              "      <td>0</td>\n",
              "      <td>0</td>\n",
              "      <td>17</td>\n",
              "      <td>10</td>\n",
              "      <td>0</td>\n",
              "      <td>0</td>\n",
              "      <td>0.588235</td>\n",
              "      <td>0</td>\n",
              "      <td>1</td>\n",
              "      <td>1</td>\n",
              "      <td>0.0</td>\n",
              "      <td>0.0</td>\n",
              "      <td>0.0</td>\n",
              "      <td>1.0</td>\n",
              "      <td>0.0</td>\n",
              "      <td>1.0</td>\n",
              "      <td>0.0</td>\n",
              "      <td>...</td>\n",
              "      <td>0.0</td>\n",
              "      <td>0.0</td>\n",
              "      <td>0.0</td>\n",
              "      <td>0.0</td>\n",
              "      <td>0.0</td>\n",
              "      <td>0.0</td>\n",
              "      <td>0.0</td>\n",
              "      <td>0.0</td>\n",
              "      <td>0.0</td>\n",
              "      <td>0.0</td>\n",
              "      <td>0.0</td>\n",
              "      <td>0.0</td>\n",
              "      <td>0.0</td>\n",
              "      <td>0.0</td>\n",
              "      <td>0.0</td>\n",
              "      <td>0.0</td>\n",
              "      <td>0.0</td>\n",
              "      <td>0.0</td>\n",
              "      <td>0.0</td>\n",
              "      <td>0.0</td>\n",
              "      <td>0.0</td>\n",
              "      <td>0.0</td>\n",
              "      <td>0.0</td>\n",
              "      <td>0.0</td>\n",
              "      <td>0.0</td>\n",
              "      <td>0.0</td>\n",
              "      <td>0.0</td>\n",
              "      <td>0.0</td>\n",
              "      <td>0.0</td>\n",
              "      <td>0.0</td>\n",
              "      <td>0.0</td>\n",
              "      <td>0.0</td>\n",
              "      <td>0.0</td>\n",
              "      <td>0.0</td>\n",
              "      <td>0.0</td>\n",
              "      <td>0.0</td>\n",
              "      <td>1.0</td>\n",
              "      <td>0.0</td>\n",
              "      <td>0.0</td>\n",
              "      <td>0.0</td>\n",
              "    </tr>\n",
              "    <tr>\n",
              "      <th>2</th>\n",
              "      <td>1988</td>\n",
              "      <td>29</td>\n",
              "      <td>0</td>\n",
              "      <td>0</td>\n",
              "      <td>0</td>\n",
              "      <td>0</td>\n",
              "      <td>1</td>\n",
              "      <td>1</td>\n",
              "      <td>0</td>\n",
              "      <td>0</td>\n",
              "      <td>0</td>\n",
              "      <td>0</td>\n",
              "      <td>0</td>\n",
              "      <td>0</td>\n",
              "      <td>0</td>\n",
              "      <td>0</td>\n",
              "      <td>0</td>\n",
              "      <td>0</td>\n",
              "      <td>1</td>\n",
              "      <td>0</td>\n",
              "      <td>1</td>\n",
              "      <td>0</td>\n",
              "      <td>1</td>\n",
              "      <td>0</td>\n",
              "      <td>0</td>\n",
              "      <td>17</td>\n",
              "      <td>10</td>\n",
              "      <td>0</td>\n",
              "      <td>0</td>\n",
              "      <td>0.588235</td>\n",
              "      <td>0</td>\n",
              "      <td>1</td>\n",
              "      <td>1</td>\n",
              "      <td>0.0</td>\n",
              "      <td>0.0</td>\n",
              "      <td>0.0</td>\n",
              "      <td>1.0</td>\n",
              "      <td>0.0</td>\n",
              "      <td>1.0</td>\n",
              "      <td>0.0</td>\n",
              "      <td>...</td>\n",
              "      <td>0.0</td>\n",
              "      <td>0.0</td>\n",
              "      <td>0.0</td>\n",
              "      <td>0.0</td>\n",
              "      <td>0.0</td>\n",
              "      <td>0.0</td>\n",
              "      <td>0.0</td>\n",
              "      <td>0.0</td>\n",
              "      <td>0.0</td>\n",
              "      <td>0.0</td>\n",
              "      <td>0.0</td>\n",
              "      <td>0.0</td>\n",
              "      <td>0.0</td>\n",
              "      <td>0.0</td>\n",
              "      <td>0.0</td>\n",
              "      <td>0.0</td>\n",
              "      <td>0.0</td>\n",
              "      <td>0.0</td>\n",
              "      <td>0.0</td>\n",
              "      <td>0.0</td>\n",
              "      <td>0.0</td>\n",
              "      <td>0.0</td>\n",
              "      <td>0.0</td>\n",
              "      <td>0.0</td>\n",
              "      <td>0.0</td>\n",
              "      <td>0.0</td>\n",
              "      <td>0.0</td>\n",
              "      <td>0.0</td>\n",
              "      <td>0.0</td>\n",
              "      <td>0.0</td>\n",
              "      <td>0.0</td>\n",
              "      <td>0.0</td>\n",
              "      <td>0.0</td>\n",
              "      <td>0.0</td>\n",
              "      <td>0.0</td>\n",
              "      <td>0.0</td>\n",
              "      <td>1.0</td>\n",
              "      <td>0.0</td>\n",
              "      <td>0.0</td>\n",
              "      <td>0.0</td>\n",
              "    </tr>\n",
              "    <tr>\n",
              "      <th>3</th>\n",
              "      <td>1988</td>\n",
              "      <td>27</td>\n",
              "      <td>0</td>\n",
              "      <td>0</td>\n",
              "      <td>0</td>\n",
              "      <td>0</td>\n",
              "      <td>1</td>\n",
              "      <td>1</td>\n",
              "      <td>0</td>\n",
              "      <td>0</td>\n",
              "      <td>0</td>\n",
              "      <td>0</td>\n",
              "      <td>0</td>\n",
              "      <td>0</td>\n",
              "      <td>0</td>\n",
              "      <td>0</td>\n",
              "      <td>0</td>\n",
              "      <td>1</td>\n",
              "      <td>0</td>\n",
              "      <td>0</td>\n",
              "      <td>0</td>\n",
              "      <td>0</td>\n",
              "      <td>0</td>\n",
              "      <td>0</td>\n",
              "      <td>0</td>\n",
              "      <td>17</td>\n",
              "      <td>10</td>\n",
              "      <td>0</td>\n",
              "      <td>0</td>\n",
              "      <td>0.588235</td>\n",
              "      <td>0</td>\n",
              "      <td>0</td>\n",
              "      <td>1</td>\n",
              "      <td>0.0</td>\n",
              "      <td>0.0</td>\n",
              "      <td>0.0</td>\n",
              "      <td>1.0</td>\n",
              "      <td>0.0</td>\n",
              "      <td>1.0</td>\n",
              "      <td>0.0</td>\n",
              "      <td>...</td>\n",
              "      <td>0.0</td>\n",
              "      <td>0.0</td>\n",
              "      <td>0.0</td>\n",
              "      <td>0.0</td>\n",
              "      <td>0.0</td>\n",
              "      <td>0.0</td>\n",
              "      <td>0.0</td>\n",
              "      <td>0.0</td>\n",
              "      <td>0.0</td>\n",
              "      <td>0.0</td>\n",
              "      <td>0.0</td>\n",
              "      <td>0.0</td>\n",
              "      <td>0.0</td>\n",
              "      <td>0.0</td>\n",
              "      <td>0.0</td>\n",
              "      <td>0.0</td>\n",
              "      <td>0.0</td>\n",
              "      <td>0.0</td>\n",
              "      <td>0.0</td>\n",
              "      <td>0.0</td>\n",
              "      <td>0.0</td>\n",
              "      <td>0.0</td>\n",
              "      <td>0.0</td>\n",
              "      <td>0.0</td>\n",
              "      <td>0.0</td>\n",
              "      <td>0.0</td>\n",
              "      <td>0.0</td>\n",
              "      <td>0.0</td>\n",
              "      <td>0.0</td>\n",
              "      <td>0.0</td>\n",
              "      <td>0.0</td>\n",
              "      <td>0.0</td>\n",
              "      <td>0.0</td>\n",
              "      <td>0.0</td>\n",
              "      <td>0.0</td>\n",
              "      <td>0.0</td>\n",
              "      <td>1.0</td>\n",
              "      <td>0.0</td>\n",
              "      <td>0.0</td>\n",
              "      <td>0.0</td>\n",
              "    </tr>\n",
              "    <tr>\n",
              "      <th>4</th>\n",
              "      <td>1988</td>\n",
              "      <td>38</td>\n",
              "      <td>0</td>\n",
              "      <td>0</td>\n",
              "      <td>0</td>\n",
              "      <td>0</td>\n",
              "      <td>0</td>\n",
              "      <td>0</td>\n",
              "      <td>0</td>\n",
              "      <td>0</td>\n",
              "      <td>0</td>\n",
              "      <td>0</td>\n",
              "      <td>0</td>\n",
              "      <td>0</td>\n",
              "      <td>0</td>\n",
              "      <td>0</td>\n",
              "      <td>0</td>\n",
              "      <td>0</td>\n",
              "      <td>0</td>\n",
              "      <td>0</td>\n",
              "      <td>0</td>\n",
              "      <td>0</td>\n",
              "      <td>0</td>\n",
              "      <td>0</td>\n",
              "      <td>0</td>\n",
              "      <td>17</td>\n",
              "      <td>10</td>\n",
              "      <td>0</td>\n",
              "      <td>0</td>\n",
              "      <td>0.588235</td>\n",
              "      <td>0</td>\n",
              "      <td>1</td>\n",
              "      <td>1</td>\n",
              "      <td>0.0</td>\n",
              "      <td>0.0</td>\n",
              "      <td>0.0</td>\n",
              "      <td>1.0</td>\n",
              "      <td>0.0</td>\n",
              "      <td>1.0</td>\n",
              "      <td>0.0</td>\n",
              "      <td>...</td>\n",
              "      <td>0.0</td>\n",
              "      <td>0.0</td>\n",
              "      <td>0.0</td>\n",
              "      <td>0.0</td>\n",
              "      <td>0.0</td>\n",
              "      <td>0.0</td>\n",
              "      <td>0.0</td>\n",
              "      <td>0.0</td>\n",
              "      <td>0.0</td>\n",
              "      <td>0.0</td>\n",
              "      <td>0.0</td>\n",
              "      <td>0.0</td>\n",
              "      <td>0.0</td>\n",
              "      <td>0.0</td>\n",
              "      <td>0.0</td>\n",
              "      <td>0.0</td>\n",
              "      <td>0.0</td>\n",
              "      <td>0.0</td>\n",
              "      <td>0.0</td>\n",
              "      <td>0.0</td>\n",
              "      <td>0.0</td>\n",
              "      <td>0.0</td>\n",
              "      <td>0.0</td>\n",
              "      <td>0.0</td>\n",
              "      <td>0.0</td>\n",
              "      <td>0.0</td>\n",
              "      <td>0.0</td>\n",
              "      <td>0.0</td>\n",
              "      <td>0.0</td>\n",
              "      <td>0.0</td>\n",
              "      <td>0.0</td>\n",
              "      <td>0.0</td>\n",
              "      <td>0.0</td>\n",
              "      <td>0.0</td>\n",
              "      <td>0.0</td>\n",
              "      <td>0.0</td>\n",
              "      <td>1.0</td>\n",
              "      <td>0.0</td>\n",
              "      <td>0.0</td>\n",
              "      <td>0.0</td>\n",
              "    </tr>\n",
              "  </tbody>\n",
              "</table>\n",
              "<p>5 rows × 517 columns</p>\n",
              "</div>"
            ],
            "text/plain": [
              "   myear  calcage  leader  deputy  support  ...  479  480  481  482  483\n",
              "0   1988       32       0       0        0  ...  0.0  1.0  0.0  0.0  0.0\n",
              "1   1988       40       0       0        0  ...  0.0  1.0  0.0  0.0  0.0\n",
              "2   1988       29       0       0        0  ...  0.0  1.0  0.0  0.0  0.0\n",
              "3   1988       27       0       0        0  ...  0.0  1.0  0.0  0.0  0.0\n",
              "4   1988       38       0       0        0  ...  0.0  1.0  0.0  0.0  0.0\n",
              "\n",
              "[5 rows x 517 columns]"
            ]
          },
          "metadata": {},
          "execution_count": 20
        }
      ]
    },
    {
      "cell_type": "code",
      "metadata": {
        "id": "jPgpuK6lH2Mx"
      },
      "source": [
        "y_summit = df.msuccess\n",
        "y_death = df.death\n",
        "X = df.drop(['msuccess', 'death', 'prev_summit', 'prev_attempt'], axis=1)"
      ],
      "execution_count": null,
      "outputs": []
    },
    {
      "cell_type": "markdown",
      "metadata": {
        "id": "w-Z_a7nM4dee"
      },
      "source": [
        "### Split by year data"
      ]
    },
    {
      "cell_type": "code",
      "metadata": {
        "id": "RbY-f8qNMIGL"
      },
      "source": [
        "# random sample of 6 years for 30 modern years to check exped overtraining\n",
        "test_years = np.random.choice(range(1990,2020), size = 6,replace=False)\n",
        "test_string = ''\n",
        "for year in test_years:\n",
        "  test_string = test_string + 'myear == ' + str(year) + ' or '\n",
        "test_string = test_string[:-4]\n",
        "train_string = test_string.replace('==', '!=').replace('or','and')\n",
        "\n",
        "test_data = df.query(test_string)\n",
        "train_data = df.query(train_string + ' and myear >= 1990')"
      ],
      "execution_count": null,
      "outputs": []
    },
    {
      "cell_type": "code",
      "metadata": {
        "id": "Gj4PknmQ4mKj"
      },
      "source": [
        "y_mod_summit_train = train_data.msuccess\n",
        "y_mod_summit_valid = test_data.msuccess\n",
        "y_mod_death_train = train_data.death\n",
        "y_mod_death_valid = test_data.death\n",
        "\n",
        "X_mod_summit_train = train_data.drop(['msuccess', 'death', 'myear',\n",
        "                                      'prev_summit', 'prev_attempt'], axis=1)\n",
        "X_mod_summit_valid = test_data.drop(['msuccess', 'death', 'myear','prev_summit',\n",
        "                                     'prev_attempt'], axis=1)"
      ],
      "execution_count": null,
      "outputs": []
    },
    {
      "cell_type": "markdown",
      "metadata": {
        "id": "A5xsuPukf1FF"
      },
      "source": [
        "###Utility Functions"
      ]
    },
    {
      "cell_type": "code",
      "metadata": {
        "id": "qNgHwDQxdWMZ"
      },
      "source": [
        "def graph_and_stats(model, X_valid, y_valid):\n",
        "  \n",
        "  predictions = model.predict(X_valid)\n",
        "\n",
        "  print(\"Log Loss:\", log_loss(y_valid, predictions), \"\\n\")\n",
        "\n",
        "  confusion = confusion_matrix(y_valid, predictions)\n",
        "\n",
        "  # calculating all the required stats for full understanding\n",
        "  acc = (confusion[0][0] + confusion[1][1])/ (confusion[0][0]\n",
        "      + confusion[0][1] + confusion[1][0] + confusion[1][1])\n",
        "  ner = (confusion[0][0] + confusion[0][1]) / (confusion[1][0]\n",
        "        + confusion[1][1])\n",
        "  missclass = (confusion[0][1] + confusion[1][0]) / (\n",
        "      confusion[0][0] + confusion[0][1] + confusion[1][0] +\n",
        "      confusion[1][1])\n",
        "  tpr = confusion[1][1] / (confusion[1][0] + confusion[1][1])\n",
        "  fpr = confusion[0][1] / (confusion[0][0] + confusion[0][1])\n",
        "  tnr = confusion[0][0] / (confusion[0][0] + confusion[0][1])\n",
        "  fnr = confusion[1][0] / (confusion[1][0] + confusion[1][1])\n",
        "  prc = confusion[1][1] / (confusion[0][1] + confusion[1][1])\n",
        "  b_acc = (tpr+tnr) / 2\n",
        "  f_measure = 2 * ((tpr * prc) / (tpr + prc))\n",
        "\n",
        "  print(\"Accuracy:\", acc)\n",
        "  print(\"Balenced Accuracy:\", b_acc)\n",
        "  print(\"Null error rate:\", ner)\n",
        "  print(\"Error rate:\", missclass)\n",
        "  print(\"True Positive Rate:\", tpr) # Sensitivity also recall\n",
        "  print(\"False Positive Rate:\", fpr) \n",
        "  print(\"True Negitive Rate:\", tnr) # Specificty\n",
        "  print(\"False Negitive Rate:\", fnr)\n",
        "  print(\"Precision:\", prc)\n",
        "  print(\"F-measure:\", f_measure, '\\n')\n",
        "\n",
        "  plt.figure(figsize=(15, 6))\n",
        "  plt.matshow(confusion, cmap = 'Blues')\n",
        "\n",
        "  group_names = ['True Negative','False Positive','False Negative',\n",
        "                 'True Positive']\n",
        "  group_counts = [\"{0:0.0f}\".format(value) for value in\n",
        "                confusion.flatten()]\n",
        "  group_percentages = [\"{0:0.2f} %\".format(value) for value in\n",
        "                     confusion.flatten()/np.sum(confusion)*100]\n",
        "\n",
        "  labels = [f\"{v1}\\n{v2}\\n{v3}\" for v1, v2, v3 in\n",
        "          zip(group_names,group_counts,group_percentages)]\n",
        "  labels = np.asarray(labels).reshape(2,2)\n",
        "\n",
        "  sns.heatmap(confusion, annot=labels, fmt = '',\n",
        "            cmap='Blues') # ,cbar = False)\n",
        "\n",
        "  plt.ylabel(\"Truth\")\n",
        "  plt.xlabel(\"Prediction\")\n",
        "  \n",
        "  plt.tick_params(bottom = True, top = False, labelbottom = True,\n",
        "                  labeltop = False)\n",
        "  plt.grid(True, which = 'minor')\n",
        "  \n",
        "  #plt.savefig(\"Graphs/.png\", bbox_inches='tight', dpi=600)\n",
        "  "
      ],
      "execution_count": null,
      "outputs": []
    },
    {
      "cell_type": "markdown",
      "metadata": {
        "id": "R8ozHDIFpA4v"
      },
      "source": [
        "##Summit"
      ]
    },
    {
      "cell_type": "code",
      "metadata": {
        "id": "MVtphDDhNleO"
      },
      "source": [
        "X_summit_train,X_summit_valid,y_summit_train,y_summit_valid = train_test_split(\n",
        "    X, y_summit, train_size=0.8, test_size=0.2, random_state=0)"
      ],
      "execution_count": null,
      "outputs": []
    },
    {
      "cell_type": "code",
      "metadata": {
        "colab": {
          "base_uri": "https://localhost:8080/"
        },
        "id": "RJ3If5FqkGry",
        "outputId": "94307327-f075-4b76-bed7-29d91dbc604f"
      },
      "source": [
        "summit_model = XGBClassifier(\n",
        "                             early_stopping_rounds=10,\n",
        "                             lr = 0.05,\n",
        "                             n_estimators=1000,\n",
        "                             verbosity=1,\n",
        "                             max_deapth=4\n",
        "                             )\n",
        "\n",
        "summit_model.fit(X_summit_train, y_summit_train)"
      ],
      "execution_count": null,
      "outputs": [
        {
          "output_type": "execute_result",
          "data": {
            "text/plain": [
              "XGBClassifier(base_score=0.5, booster='gbtree', colsample_bylevel=1,\n",
              "              colsample_bynode=1, colsample_bytree=1, early_stopping_rounds=10,\n",
              "              gamma=0, learning_rate=0.1, lr=0.05, max_deapth=4,\n",
              "              max_delta_step=0, max_depth=3, min_child_weight=1, missing=None,\n",
              "              n_estimators=1000, n_jobs=1, nthread=None,\n",
              "              objective='binary:logistic', random_state=0, reg_alpha=0,\n",
              "              reg_lambda=1, scale_pos_weight=1, seed=None, silent=None,\n",
              "              subsample=1, verbosity=1)"
            ]
          },
          "metadata": {},
          "execution_count": 56
        }
      ]
    },
    {
      "cell_type": "code",
      "metadata": {
        "colab": {
          "base_uri": "https://localhost:8080/",
          "height": 489
        },
        "id": "hDVxrOLpf-XM",
        "outputId": "13bd854d-1ff9-4fc8-fc25-765c8a8b3b38"
      },
      "source": [
        "graph_and_stats(summit_model, X_summit_valid, y_summit_valid)"
      ],
      "execution_count": null,
      "outputs": [
        {
          "output_type": "stream",
          "name": "stdout",
          "text": [
            "Log Loss: 3.222742596094652 \n",
            "\n",
            "Accuracy: 0.9066937119675457\n",
            "Null error rate: 0.9879032258064516\n",
            "Error rate: 0.09330628803245436\n",
            "True Positive Rate: 0.9576612903225806\n",
            "False Positive Rate: 0.14489795918367346\n",
            "True Negitive Rate: 0.8551020408163266\n",
            "False Negitive Rate: 0.04233870967741935\n",
            "Precision: 0.86996336996337\n",
            "F-measure: 0.9117082533589252 \n",
            "\n"
          ]
        },
        {
          "output_type": "display_data",
          "data": {
            "text/plain": [
              "<Figure size 1080x432 with 0 Axes>"
            ]
          },
          "metadata": {}
        },
        {
          "output_type": "display_data",
          "data": {
            "image/png": "[encoded data removed]",
            "text/plain": [
              "<Figure size 288x288 with 2 Axes>"
            ]
          },
          "metadata": {
            "needs_background": "light"
          }
        }
      ]
    },
    {
      "cell_type": "markdown",
      "metadata": {
        "id": "UpZiZ3NqXmAI"
      },
      "source": [
        "##Modern Summiting Optimisation"
      ]
    },
    {
      "cell_type": "code",
      "metadata": {
        "colab": {
          "base_uri": "https://localhost:8080/",
          "height": 282
        },
        "id": "Bapj0sTUOSzC",
        "outputId": "948d1001-298a-4a0c-aaac-392a9c67ef09"
      },
      "source": [
        "# model tuning\n",
        "\n",
        "# NEEDS TO BE REDONE\n",
        "\n",
        "# n_estimators 650 peak\n",
        "# early stopping rounds has no effect, keeping default\n",
        "# lr no effect keeping 0.05\n",
        "# subsample around 0.86 \n",
        "# colsample_bytree around 0.65\n",
        "# gamma 0 is best\n",
        "\n",
        "acc = []\n",
        "for i in [100,150,200,250,300,350,400,450,500,550,600,650,700,750,800]:\n",
        "  temp_model = XGBClassifier(\n",
        "                             early_stopping_rounds=10,\n",
        "                             lr = 0.05,\n",
        "                             n_estimators=i,\n",
        "                             verbosity=1,\n",
        "                             max_deapth=3,\n",
        "                             subsample = 0.85,\n",
        "                             colsample_bytree = 0.65,\n",
        "                             gamma = 1\n",
        "                             ).fit(X_mod_summit_train, y_mod_summit_train)\n",
        "  temp_predictions = temp_model.predict(X_mod_summit_valid)\n",
        "  acc.append(accuracy_score(y_mod_summit_valid, temp_predictions))\n",
        "\n",
        "plt.figure()\n",
        "plt.plot([100,150,200,250,300,350,400,450,500,550,600,650,700,750,800], acc)"
      ],
      "execution_count": null,
      "outputs": [
        {
          "output_type": "execute_result",
          "data": {
            "text/plain": [
              "[<matplotlib.lines.Line2D at 0x7f10b57dc590>]"
            ]
          },
          "metadata": {},
          "execution_count": 37
        },
        {
          "output_type": "display_data",
          "data": {
            "image/png": "[encoded data removed]",
            "text/plain": [
              "<Figure size 432x288 with 1 Axes>"
            ]
          },
          "metadata": {
            "needs_background": "light"
          }
        }
      ]
    },
    {
      "cell_type": "code",
      "metadata": {
        "colab": {
          "base_uri": "https://localhost:8080/",
          "height": 282
        },
        "id": "vK2JCV-BAwxf",
        "outputId": "a3cdc0ca-cd24-4e3b-af52-2a3c84819f45"
      },
      "source": [
        "acc = []\n",
        "for i in [0.5,0.55,0.6,0.65,0.7,0.75,0.8,0.85,0.9,0.95,1]:\n",
        "  temp_model = XGBClassifier(\n",
        "                             early_stopping_rounds=10,\n",
        "                             lr = 0.05,\n",
        "                             n_estimators=100,\n",
        "                             verbosity=1,\n",
        "                             max_deapth=3,\n",
        "                             subsample = i,\n",
        "                             colsample_bytree = 0.65,\n",
        "                             gamma = 1\n",
        "                             ).fit(X_mod_summit_train, y_mod_summit_train)\n",
        "  temp_predictions = temp_model.predict(X_mod_summit_valid)\n",
        "  acc.append(accuracy_score(y_mod_summit_valid, temp_predictions))\n",
        "\n",
        "plt.figure()\n",
        "plt.plot([0.5,0.55,0.6,0.65,0.7,0.75,0.8,0.85,0.9,0.95,1], acc)\n",
        "plt.ylabel(\"Model Accuracy\")"
      ],
      "execution_count": null,
      "outputs": [
        {
          "output_type": "execute_result",
          "data": {
            "text/plain": [
              "[<matplotlib.lines.Line2D at 0x7f10b5764910>]"
            ]
          },
          "metadata": {},
          "execution_count": 39
        },
        {
          "output_type": "display_data",
          "data": {
            "image/png": "[encoded data removed]",
            "text/plain": [
              "<Figure size 432x288 with 1 Axes>"
            ]
          },
          "metadata": {
            "needs_background": "light"
          }
        }
      ]
    },
    {
      "cell_type": "markdown",
      "metadata": {
        "id": "hnLVLVHAiAdx"
      },
      "source": [
        "##Modern Summiting"
      ]
    },
    {
      "cell_type": "code",
      "metadata": {
        "colab": {
          "base_uri": "https://localhost:8080/"
        },
        "id": "R_o5Am0O7c2u",
        "outputId": "7bd43aef-9619-43f0-8789-64347586f665"
      },
      "source": [
        "sampler = RandomUnderSampler(random_state = 0, replacement=True)\n",
        "\n",
        "X_mod_summit_train,y_mod_summit_train = sampler.fit_resample(X_mod_summit_train,\n",
        "                                                            y_mod_summit_train)\n",
        "\n",
        "# Getting data in the right format\n",
        "X_mod_summit_train = pd.DataFrame(X_mod_summit_train,\n",
        "                                   columns=train_data.drop(['msuccess', 'death',\n",
        "                                                            'myear',\n",
        "                                                            'prev_summit',\n",
        "                                                            'prev_attempt'],\n",
        "                                                           axis=1).columns)\n",
        "y_mod_summit_train = pd.Series(y_mod_summit_train)"
      ],
      "execution_count": null,
      "outputs": [
        {
          "output_type": "stream",
          "name": "stderr",
          "text": [
            "/usr/local/lib/python3.7/dist-packages/sklearn/utils/deprecation.py:87: FutureWarning: Function safe_indexing is deprecated; safe_indexing is deprecated in version 0.22 and will be removed in version 0.24.\n",
            "  warnings.warn(msg, category=FutureWarning)\n"
          ]
        }
      ]
    },
    {
      "cell_type": "code",
      "metadata": {
        "colab": {
          "base_uri": "https://localhost:8080/"
        },
        "id": "TUK93DKhdQVD",
        "outputId": "b0d3ecbd-fb02-4dba-c384-9ee157a2c604"
      },
      "source": [
        "# optimised model\n",
        "summit_mod_model = XGBClassifier(\n",
        "                             early_stopping_rounds=10,\n",
        "                             lr = 0.05,\n",
        "                             n_estimators=650,\n",
        "                             verbosity=1,\n",
        "                             max_deapth=3,\n",
        "                             subsample = 0.85,\n",
        "                             colsample_bytree = 0.65,\n",
        "                             gamma = 0\n",
        "                             )\n",
        "\n",
        "summit_mod_model.fit(X_mod_summit_train, y_mod_summit_train)"
      ],
      "execution_count": null,
      "outputs": [
        {
          "output_type": "execute_result",
          "data": {
            "text/plain": [
              "XGBClassifier(base_score=0.5, booster='gbtree', colsample_bylevel=1,\n",
              "              colsample_bynode=1, colsample_bytree=0.65,\n",
              "              early_stopping_rounds=10, gamma=0, learning_rate=0.1, lr=0.05,\n",
              "              max_deapth=3, max_delta_step=0, max_depth=3, min_child_weight=1,\n",
              "              missing=None, n_estimators=650, n_jobs=1, nthread=None,\n",
              "              objective='binary:logistic', random_state=0, reg_alpha=0,\n",
              "              reg_lambda=1, scale_pos_weight=1, seed=None, silent=None,\n",
              "              subsample=0.85, verbosity=1)"
            ]
          },
          "metadata": {},
          "execution_count": 35
        }
      ]
    },
    {
      "cell_type": "code",
      "metadata": {
        "colab": {
          "base_uri": "https://localhost:8080/",
          "height": 506
        },
        "id": "fGEpGfNTfaIe",
        "outputId": "4a79651f-7ed0-490a-96c1-a2e0a3593e07"
      },
      "source": [
        "graph_and_stats(summit_mod_model, X_mod_summit_valid, y_mod_summit_valid)"
      ],
      "execution_count": null,
      "outputs": [
        {
          "output_type": "stream",
          "name": "stdout",
          "text": [
            "Log Loss: 3.67767936338078 \n",
            "\n",
            "Accuracy: 0.8935219657483247\n",
            "Balenced Accuracy: 0.8865905795177016\n",
            "Null error rate: 0.772547294324681\n",
            "Error rate: 0.10647803425167536\n",
            "True Positive Rate: 0.9406071271447426\n",
            "False Positive Rate: 0.1674259681093394\n",
            "True Negitive Rate: 0.8325740318906606\n",
            "False Negitive Rate: 0.05939287285525737\n",
            "Precision: 0.8791118421052632\n",
            "F-measure: 0.9088204038257173 \n",
            "\n"
          ]
        },
        {
          "output_type": "display_data",
          "data": {
            "text/plain": [
              "<Figure size 1080x432 with 0 Axes>"
            ]
          },
          "metadata": {}
        },
        {
          "output_type": "display_data",
          "data": {
            "image/png": "[encoded data removed]",
            "text/plain": [
              "<Figure size 288x288 with 2 Axes>"
            ]
          },
          "metadata": {
            "needs_background": "light"
          }
        }
      ]
    },
    {
      "cell_type": "code",
      "metadata": {
        "colab": {
          "base_uri": "https://localhost:8080/",
          "height": 506
        },
        "id": "Hg3yxmkYKem5",
        "outputId": "b646c6a8-62bd-4e7d-9f1e-21c9e2d71a59"
      },
      "source": [
        "graph_and_stats(summit_mod_model, X_mod_summit_train, y_mod_summit_train)"
      ],
      "execution_count": null,
      "outputs": [
        {
          "output_type": "stream",
          "name": "stdout",
          "text": [
            "Log Loss: 2.964183731137071 \n",
            "\n",
            "Accuracy: 0.9141797481455926\n",
            "Balenced Accuracy: 0.9141797481455926\n",
            "Null error rate: 1.0\n",
            "Error rate: 0.08582025185440745\n",
            "True Positive Rate: 0.9715370018975332\n",
            "False Positive Rate: 0.14317750560634812\n",
            "True Negitive Rate: 0.8568224943936519\n",
            "False Negitive Rate: 0.028462998102466792\n",
            "Precision: 0.8715567935623646\n",
            "F-measure: 0.9188351415286728 \n",
            "\n"
          ]
        },
        {
          "output_type": "display_data",
          "data": {
            "text/plain": [
              "<Figure size 1080x432 with 0 Axes>"
            ]
          },
          "metadata": {}
        },
        {
          "output_type": "display_data",
          "data": {
            "image/png": "[encoded data removed]",
            "text/plain": [
              "<Figure size 288x288 with 2 Axes>"
            ]
          },
          "metadata": {
            "needs_background": "light"
          }
        }
      ]
    },
    {
      "cell_type": "markdown",
      "metadata": {
        "id": "A4kJUth_WGom"
      },
      "source": [
        "##Summiting Modern Year Splitting"
      ]
    },
    {
      "cell_type": "code",
      "metadata": {
        "id": "5jgThRnAW-ns"
      },
      "source": [
        "test = df.query('myear > 2014')\n",
        "train = df.query('myear <= 2014 and myear > 1990')\n",
        "\n",
        "y_mod_summit_train = train.msuccess\n",
        "y_mod_summit_test = test.msuccess\n",
        "X_mod_summit_train = train.drop(['msuccess', 'death', 'myear'], axis=1)\n",
        "X_mod_summit_test = test.drop(['msuccess', 'death', 'myear'], axis=1)"
      ],
      "execution_count": null,
      "outputs": []
    },
    {
      "cell_type": "code",
      "metadata": {
        "colab": {
          "base_uri": "https://localhost:8080/"
        },
        "id": "mI_ks5vdWXQt",
        "outputId": "30f4d218-2391-42f1-ac25-7b0cee4d26ec"
      },
      "source": [
        "summit_mod_model = XGBClassifier(\n",
        "                             early_stopping_rounds=10,\n",
        "                             lr = 0.05,\n",
        "                             n_estimators=650,\n",
        "                             verbosity=1,\n",
        "                             max_deapth=3,\n",
        "                             subsample = 0.85,\n",
        "                             colsample_bytree = 0.65,\n",
        "                             gamma = 0\n",
        "                             )\n",
        "\n",
        "summit_mod_model.fit(X_mod_summit_train, y_mod_summit_train)"
      ],
      "execution_count": null,
      "outputs": [
        {
          "output_type": "execute_result",
          "data": {
            "text/plain": [
              "XGBClassifier(base_score=0.5, booster='gbtree', colsample_bylevel=1,\n",
              "              colsample_bynode=1, colsample_bytree=0.65,\n",
              "              early_stopping_rounds=10, gamma=0, learning_rate=0.1, lr=0.05,\n",
              "              max_deapth=3, max_delta_step=0, max_depth=3, min_child_weight=1,\n",
              "              missing=None, n_estimators=650, n_jobs=1, nthread=None,\n",
              "              objective='binary:logistic', random_state=0, reg_alpha=0,\n",
              "              reg_lambda=1, scale_pos_weight=1, seed=None, silent=None,\n",
              "              subsample=0.85, verbosity=1)"
            ]
          },
          "metadata": {},
          "execution_count": 119
        }
      ]
    },
    {
      "cell_type": "code",
      "metadata": {
        "colab": {
          "base_uri": "https://localhost:8080/",
          "height": 489
        },
        "id": "1-V-AHF7WY7c",
        "outputId": "f50731a8-7e04-4b33-db0f-52f7910e5eb2"
      },
      "source": [
        "graph_and_stats(summit_mod_model, X_mod_summit_test, y_mod_summit_test)"
      ],
      "execution_count": null,
      "outputs": [
        {
          "output_type": "stream",
          "name": "stdout",
          "text": [
            "Log Loss: 2.499158392843772 \n",
            "\n",
            "Accuracy: 0.9276433691756273\n",
            "Null error rate: 0.47619047619047616\n",
            "Error rate: 0.07235663082437276\n",
            "True Positive Rate: 0.9834656084656085\n",
            "False Positive Rate: 0.18958333333333333\n",
            "True Negitive Rate: 0.8104166666666667\n",
            "False Negitive Rate: 0.016534391534391533\n",
            "Precision: 0.9159223898983677\n",
            "F-measure: 0.9484930633072874 \n",
            "\n"
          ]
        },
        {
          "output_type": "display_data",
          "data": {
            "text/plain": [
              "<Figure size 1080x432 with 0 Axes>"
            ]
          },
          "metadata": {}
        },
        {
          "output_type": "display_data",
          "data": {
            "image/png": "[encoded data removed]",
            "text/plain": [
              "<Figure size 288x288 with 2 Axes>"
            ]
          },
          "metadata": {
            "needs_background": "light"
          }
        }
      ]
    },
    {
      "cell_type": "markdown",
      "metadata": {
        "id": "PeA6TBHjo9kg"
      },
      "source": [
        "##Death"
      ]
    },
    {
      "cell_type": "code",
      "metadata": {
        "id": "F2NxBf0yhgHj"
      },
      "source": [
        "y_death_train = y_mod_death_train\n",
        "y_death_valid = y_mod_death_valid\n",
        "X_death_train = X_mod_summit_train\n",
        "X_death_valid = X_mod_summit_valid"
      ],
      "execution_count": null,
      "outputs": []
    },
    {
      "cell_type": "code",
      "metadata": {
        "colab": {
          "base_uri": "https://localhost:8080/"
        },
        "id": "9pyOOGYVniRf",
        "outputId": "52acd0e0-e0fc-4fe0-a210-5dabbb8af9f9"
      },
      "source": [
        "death_model = XGBClassifier(\n",
        "                            early_stopping_rounds=10,\n",
        "                            lr = 0.05,\n",
        "                            n_estimators=1000,\n",
        "                            verbosity=1,\n",
        "                            max_deapth=4\n",
        "                            )\n",
        "\n",
        "death_model.fit(X_death_train, y_death_train)"
      ],
      "execution_count": null,
      "outputs": [
        {
          "output_type": "execute_result",
          "data": {
            "text/plain": [
              "XGBClassifier(base_score=0.5, booster='gbtree', colsample_bylevel=1,\n",
              "              colsample_bynode=1, colsample_bytree=1, early_stopping_rounds=10,\n",
              "              gamma=0, learning_rate=0.1, lr=0.05, max_deapth=4,\n",
              "              max_delta_step=0, max_depth=3, min_child_weight=1, missing=None,\n",
              "              n_estimators=1000, n_jobs=1, nthread=None,\n",
              "              objective='binary:logistic', random_state=0, reg_alpha=0,\n",
              "              reg_lambda=1, scale_pos_weight=1, seed=None, silent=None,\n",
              "              subsample=1, verbosity=1)"
            ]
          },
          "metadata": {},
          "execution_count": 13
        }
      ]
    },
    {
      "cell_type": "code",
      "metadata": {
        "colab": {
          "base_uri": "https://localhost:8080/",
          "height": 506
        },
        "id": "C40xYX1ZghMM",
        "outputId": "062b6d20-a833-4f66-962e-089b9f302f32"
      },
      "source": [
        "graph_and_stats(death_model, X_death_valid, y_death_valid)"
      ],
      "execution_count": null,
      "outputs": [
        {
          "output_type": "stream",
          "name": "stdout",
          "text": [
            "Log Loss: 0.5582267160103972 \n",
            "\n",
            "Accuracy: 0.9838376891334251\n",
            "Balenced Accuracy: 0.5304373585740697\n",
            "Null error rate: 58.3469387755102\n",
            "Error rate: 0.016162310866574967\n",
            "True Positive Rate: 0.061224489795918366\n",
            "False Positive Rate: 0.0003497726477789437\n",
            "True Negitive Rate: 0.9996502273522211\n",
            "False Negitive Rate: 0.9387755102040817\n",
            "Precision: 0.75\n",
            "F-measure: 0.11320754716981131 \n",
            "\n"
          ]
        },
        {
          "output_type": "display_data",
          "data": {
            "text/plain": [
              "<Figure size 1080x432 with 0 Axes>"
            ]
          },
          "metadata": {}
        },
        {
          "output_type": "display_data",
          "data": {
            "image/png": "[encoded data removed]",
            "text/plain": [
              "<Figure size 288x288 with 2 Axes>"
            ]
          },
          "metadata": {
            "needs_background": "light"
          }
        }
      ]
    },
    {
      "cell_type": "code",
      "metadata": {
        "colab": {
          "base_uri": "https://localhost:8080/",
          "height": 506
        },
        "id": "ObK7yD6GLZKv",
        "outputId": "f1340ae6-edf6-4077-f746-40ea7c6c7a81"
      },
      "source": [
        "graph_and_stats(death_model, X_death_train, y_death_train)"
      ],
      "execution_count": null,
      "outputs": [
        {
          "output_type": "stream",
          "name": "stdout",
          "text": [
            "Log Loss: 0.19848451341069592 \n",
            "\n",
            "Accuracy: 0.994253286401839\n",
            "Balenced Accuracy: 0.6937621967121711\n",
            "Null error rate: 106.91472868217055\n",
            "Error rate: 0.005746713598161052\n",
            "True Positive Rate: 0.3875968992248062\n",
            "False Positive Rate: 7.250580046403712e-05\n",
            "True Negitive Rate: 0.999927494199536\n",
            "False Negitive Rate: 0.6124031007751938\n",
            "Precision: 0.9803921568627451\n",
            "F-measure: 0.5555555555555556 \n",
            "\n"
          ]
        },
        {
          "output_type": "display_data",
          "data": {
            "text/plain": [
              "<Figure size 1080x432 with 0 Axes>"
            ]
          },
          "metadata": {}
        },
        {
          "output_type": "display_data",
          "data": {
            "image/png": "[encoded data removed]",
            "text/plain": [
              "<Figure size 288x288 with 2 Axes>"
            ]
          },
          "metadata": {
            "needs_background": "light"
          }
        }
      ]
    },
    {
      "cell_type": "markdown",
      "metadata": {
        "id": "mg7UdBlR2Hxj"
      },
      "source": [
        "##Death with weights"
      ]
    },
    {
      "cell_type": "code",
      "metadata": {
        "colab": {
          "base_uri": "https://localhost:8080/"
        },
        "id": "-cG7JEtZ4aOW",
        "outputId": "27494574-7e18-4c0a-8722-b2fe2fc413e8"
      },
      "source": [
        "y_death_train.value_counts()"
      ],
      "execution_count": null,
      "outputs": [
        {
          "output_type": "execute_result",
          "data": {
            "text/plain": [
              "0    15537\n",
              "1      238\n",
              "Name: death, dtype: int64"
            ]
          },
          "metadata": {},
          "execution_count": 93
        }
      ]
    },
    {
      "cell_type": "code",
      "metadata": {
        "colab": {
          "base_uri": "https://localhost:8080/"
        },
        "id": "j73oSy9a2OOK",
        "outputId": "dfb0d36d-b0f7-46c8-d0db-16641c9b5233"
      },
      "source": [
        "class_counts = y_death_train.value_counts()\n",
        "\n",
        "class_ratio = class_counts[0]/class_counts[1]\n",
        "\n",
        "death_weight_model = XGBClassifier(\n",
        "                            early_stopping_rounds=10,\n",
        "                            lr = 0.05,\n",
        "                            n_estimators=1000,\n",
        "                            verbosity=1,\n",
        "                            max_deapth=4,\n",
        "                            scale_pos_weight = class_ratio\n",
        "                            )\n",
        "\n",
        "death_weight_model.fit(X_death_train, y_death_train)"
      ],
      "execution_count": null,
      "outputs": [
        {
          "output_type": "execute_result",
          "data": {
            "text/plain": [
              "XGBClassifier(base_score=0.5, booster='gbtree', colsample_bylevel=1,\n",
              "              colsample_bynode=1, colsample_bytree=1, early_stopping_rounds=10,\n",
              "              gamma=0, learning_rate=0.1, lr=0.05, max_deapth=4,\n",
              "              max_delta_step=0, max_depth=3, min_child_weight=1, missing=None,\n",
              "              n_estimators=1000, n_jobs=1, nthread=None,\n",
              "              objective='binary:logistic', random_state=0, reg_alpha=0,\n",
              "              reg_lambda=1, scale_pos_weight=106.91472868217055, seed=None,\n",
              "              silent=None, subsample=1, verbosity=1)"
            ]
          },
          "metadata": {},
          "execution_count": 16
        }
      ]
    },
    {
      "cell_type": "code",
      "metadata": {
        "colab": {
          "base_uri": "https://localhost:8080/",
          "height": 506
        },
        "id": "Nc4Njzr12Pmp",
        "outputId": "57d7647c-80ba-49f1-b120-383ed83060a0"
      },
      "source": [
        "graph_and_stats(death_weight_model, X_death_valid, y_death_valid)"
      ],
      "execution_count": null,
      "outputs": [
        {
          "output_type": "stream",
          "name": "stdout",
          "text": [
            "Log Loss: 1.591564786615902 \n",
            "\n",
            "Accuracy: 0.953920220082531\n",
            "Balenced Accuracy: 0.5653682249395036\n",
            "Null error rate: 58.3469387755102\n",
            "Error rate: 0.04607977991746905\n",
            "True Positive Rate: 0.16326530612244897\n",
            "False Positive Rate: 0.03252885624344176\n",
            "True Negitive Rate: 0.9674711437565582\n",
            "False Negitive Rate: 0.8367346938775511\n",
            "Precision: 0.07920792079207921\n",
            "F-measure: 0.10666666666666667 \n",
            "\n"
          ]
        },
        {
          "output_type": "display_data",
          "data": {
            "text/plain": [
              "<Figure size 1080x432 with 0 Axes>"
            ]
          },
          "metadata": {}
        },
        {
          "output_type": "display_data",
          "data": {
            "image/png": "[encoded data removed]",
            "text/plain": [
              "<Figure size 288x288 with 2 Axes>"
            ]
          },
          "metadata": {
            "needs_background": "light"
          }
        }
      ]
    },
    {
      "cell_type": "code",
      "metadata": {
        "colab": {
          "base_uri": "https://localhost:8080/",
          "height": 506
        },
        "id": "q0SMdU8WKUW6",
        "outputId": "85256757-bcd7-41f4-92d7-00085c60214f"
      },
      "source": [
        "graph_and_stats(death_weight_model, X_death_train, y_death_train)"
      ],
      "execution_count": null,
      "outputs": [
        {
          "output_type": "stream",
          "name": "stdout",
          "text": [
            "Log Loss: 0.9998885945631337 \n",
            "\n",
            "Accuracy: 0.9710509302492637\n",
            "Balenced Accuracy: 0.9853900812064965\n",
            "Null error rate: 106.91472868217055\n",
            "Error rate: 0.028949069750736297\n",
            "True Positive Rate: 1.0\n",
            "False Positive Rate: 0.02921983758700696\n",
            "True Negitive Rate: 0.970780162412993\n",
            "False Negitive Rate: 0.0\n",
            "Precision: 0.2424812030075188\n",
            "F-measure: 0.39031770045385783 \n",
            "\n"
          ]
        },
        {
          "output_type": "display_data",
          "data": {
            "text/plain": [
              "<Figure size 1080x432 with 0 Axes>"
            ]
          },
          "metadata": {}
        },
        {
          "output_type": "display_data",
          "data": {
            "image/png": "[encoded data removed]",
            "text/plain": [
              "<Figure size 288x288 with 2 Axes>"
            ]
          },
          "metadata": {
            "needs_background": "light"
          }
        }
      ]
    },
    {
      "cell_type": "markdown",
      "metadata": {
        "id": "5sYucrz1V3Wy"
      },
      "source": [
        "##Death with undersampling\n"
      ]
    },
    {
      "cell_type": "code",
      "metadata": {
        "id": "d26uTWVCwhYp",
        "colab": {
          "base_uri": "https://localhost:8080/"
        },
        "outputId": "4622ac62-009b-4f72-e531-c1d41d4a710f"
      },
      "source": [
        "sampler = RandomUnderSampler(random_state = 0, replacement=True)\n",
        "\n",
        "X_death_resampled_u, y_death_resampled_u = sampler.fit_resample(X_death_train,\n",
        "                                                            y_death_train)\n",
        "\n",
        "# Getting data in the right format\n",
        "X_death_resampled_u = pd.DataFrame(X_death_resampled_u,\n",
        "                                   columns=X_death_valid.columns)\n",
        "y_death_resampled_u = pd.Series(y_death_resampled_u)"
      ],
      "execution_count": null,
      "outputs": [
        {
          "output_type": "stream",
          "name": "stderr",
          "text": [
            "/usr/local/lib/python3.7/dist-packages/sklearn/utils/deprecation.py:87: FutureWarning: Function safe_indexing is deprecated; safe_indexing is deprecated in version 0.22 and will be removed in version 0.24.\n",
            "  warnings.warn(msg, category=FutureWarning)\n"
          ]
        }
      ]
    },
    {
      "cell_type": "code",
      "metadata": {
        "colab": {
          "base_uri": "https://localhost:8080/"
        },
        "id": "506U1m_hWCGV",
        "outputId": "2e7022d4-922e-4dd8-b901-87addda00706"
      },
      "source": [
        "death_model_u = XGBClassifier(\n",
        "                            early_stopping_rounds=10,\n",
        "                            lr = 0.05,\n",
        "                            n_estimators=1000,\n",
        "                            verbosity=1,\n",
        "                            max_deapth=6,\n",
        "                            )\n",
        "\n",
        "death_model_u.fit(X_death_resampled_u, y_death_resampled_u)"
      ],
      "execution_count": null,
      "outputs": [
        {
          "output_type": "execute_result",
          "data": {
            "text/plain": [
              "XGBClassifier(base_score=0.5, booster='gbtree', colsample_bylevel=1,\n",
              "              colsample_bynode=1, colsample_bytree=1, early_stopping_rounds=10,\n",
              "              gamma=0, learning_rate=0.1, lr=0.05, max_deapth=6,\n",
              "              max_delta_step=0, max_depth=3, min_child_weight=1, missing=None,\n",
              "              n_estimators=1000, n_jobs=1, nthread=None,\n",
              "              objective='binary:logistic', random_state=0, reg_alpha=0,\n",
              "              reg_lambda=1, scale_pos_weight=1, seed=None, silent=None,\n",
              "              subsample=1, verbosity=1)"
            ]
          },
          "metadata": {},
          "execution_count": 20
        }
      ]
    },
    {
      "cell_type": "code",
      "metadata": {
        "colab": {
          "base_uri": "https://localhost:8080/",
          "height": 506
        },
        "id": "GUimKWgBgqUK",
        "outputId": "e849b2c2-aab0-4321-b8f9-9cbfd112af50"
      },
      "source": [
        "graph_and_stats(death_model_u, X_death_valid, y_death_valid)"
      ],
      "execution_count": null,
      "outputs": [
        {
          "output_type": "stream",
          "name": "stdout",
          "text": [
            "Log Loss: 11.61612287846411 \n",
            "\n",
            "Accuracy: 0.6636863823933975\n",
            "Balenced Accuracy: 0.5782312925170068\n",
            "Null error rate: 58.3469387755102\n",
            "Error rate: 0.3363136176066025\n",
            "True Positive Rate: 0.4897959183673469\n",
            "False Positive Rate: 0.3333333333333333\n",
            "True Negitive Rate: 0.6666666666666666\n",
            "False Negitive Rate: 0.5102040816326531\n",
            "Precision: 0.02456499488229273\n",
            "F-measure: 0.046783625730994156 \n",
            "\n"
          ]
        },
        {
          "output_type": "display_data",
          "data": {
            "text/plain": [
              "<Figure size 1080x432 with 0 Axes>"
            ]
          },
          "metadata": {}
        },
        {
          "output_type": "display_data",
          "data": {
            "image/png": "[encoded data removed]",
            "text/plain": [
              "<Figure size 288x288 with 2 Axes>"
            ]
          },
          "metadata": {
            "needs_background": "light"
          }
        }
      ]
    },
    {
      "cell_type": "code",
      "metadata": {
        "colab": {
          "base_uri": "https://localhost:8080/",
          "height": 506
        },
        "id": "y4By53wJJ7Au",
        "outputId": "9b7f5552-218c-468b-b9f8-cd3bf9958cb7"
      },
      "source": [
        "graph_and_stats(death_model_u, X_death_train, y_death_train)"
      ],
      "execution_count": null,
      "outputs": [
        {
          "output_type": "stream",
          "name": "stdout",
          "text": [
            "Log Loss: 11.380865963427025 \n",
            "\n",
            "Accuracy: 0.6704978090654407\n",
            "Balenced Accuracy: 0.8337079466357309\n",
            "Null error rate: 106.91472868217055\n",
            "Error rate: 0.3295021909345593\n",
            "True Positive Rate: 1.0\n",
            "False Positive Rate: 0.3325841067285383\n",
            "True Negitive Rate: 0.6674158932714617\n",
            "False Negitive Rate: 0.0\n",
            "Precision: 0.027353689567430027\n",
            "F-measure: 0.05325077399380805 \n",
            "\n"
          ]
        },
        {
          "output_type": "display_data",
          "data": {
            "text/plain": [
              "<Figure size 1080x432 with 0 Axes>"
            ]
          },
          "metadata": {}
        },
        {
          "output_type": "display_data",
          "data": {
            "image/png": "[encoded data removed]",
            "text/plain": [
              "<Figure size 288x288 with 2 Axes>"
            ]
          },
          "metadata": {
            "needs_background": "light"
          }
        }
      ]
    },
    {
      "cell_type": "markdown",
      "metadata": {
        "id": "5vHwxNsFjbx2"
      },
      "source": [
        "##Death with oversampling\n"
      ]
    },
    {
      "cell_type": "code",
      "metadata": {
        "colab": {
          "base_uri": "https://localhost:8080/"
        },
        "id": "sEzgdR5vjbx3",
        "outputId": "595bb64f-bcf7-4b22-caae-4bde28caad61"
      },
      "source": [
        "sampler = SMOTE(random_state = 0)\n",
        "\n",
        "X_death_resampled_o, y_death_resampled_o = sampler.fit_resample(X_death_train,\n",
        "                                                                y_death_train)\n",
        "\n",
        "# Getting data in the right format\n",
        "X_death_resampled_o = pd.DataFrame(X_death_resampled_o,\n",
        "                                   columns=X_death_valid.columns)\n",
        "y_death_resampled_o = pd.Series(y_death_resampled_o)"
      ],
      "execution_count": null,
      "outputs": [
        {
          "output_type": "stream",
          "name": "stderr",
          "text": [
            "/usr/local/lib/python3.7/dist-packages/sklearn/utils/deprecation.py:87: FutureWarning: Function safe_indexing is deprecated; safe_indexing is deprecated in version 0.22 and will be removed in version 0.24.\n",
            "  warnings.warn(msg, category=FutureWarning)\n"
          ]
        }
      ]
    },
    {
      "cell_type": "code",
      "metadata": {
        "colab": {
          "base_uri": "https://localhost:8080/"
        },
        "id": "afvwp0-Zjbx3",
        "outputId": "16bda27c-5d19-4fb6-d8ff-2f0fa9361cd3"
      },
      "source": [
        "death_model_o = XGBClassifier(\n",
        "                            early_stopping_rounds=10,\n",
        "                            lr = 0.05,\n",
        "                            n_estimators=1000,\n",
        "                            verbosity=1,\n",
        "                            max_deapth=6,\n",
        "                            )\n",
        "\n",
        "death_model_o.fit(X_death_resampled_o, y_death_resampled_o)"
      ],
      "execution_count": null,
      "outputs": [
        {
          "output_type": "execute_result",
          "data": {
            "text/plain": [
              "XGBClassifier(base_score=0.5, booster='gbtree', colsample_bylevel=1,\n",
              "              colsample_bynode=1, colsample_bytree=1, early_stopping_rounds=10,\n",
              "              gamma=0, learning_rate=0.1, lr=0.05, max_deapth=6,\n",
              "              max_delta_step=0, max_depth=3, min_child_weight=1, missing=None,\n",
              "              n_estimators=1000, n_jobs=1, nthread=None,\n",
              "              objective='binary:logistic', random_state=0, reg_alpha=0,\n",
              "              reg_lambda=1, scale_pos_weight=1, seed=None, silent=None,\n",
              "              subsample=1, verbosity=1)"
            ]
          },
          "metadata": {},
          "execution_count": 24
        }
      ]
    },
    {
      "cell_type": "code",
      "metadata": {
        "colab": {
          "base_uri": "https://localhost:8080/",
          "height": 506
        },
        "id": "FagcCmNXg0WY",
        "outputId": "7b5d54ea-4172-4fb2-ba7d-b8fcb9a2ab1d"
      },
      "source": [
        "graph_and_stats(death_model_o, X_death_valid, y_death_valid)"
      ],
      "execution_count": null,
      "outputs": [
        {
          "output_type": "stream",
          "name": "stdout",
          "text": [
            "Log Loss: 0.7838973984930714 \n",
            "\n",
            "Accuracy: 0.9773039889958735\n",
            "Balenced Accuracy: 0.5070561278026425\n",
            "Null error rate: 58.3469387755102\n",
            "Error rate: 0.02269601100412655\n",
            "True Positive Rate: 0.02040816326530612\n",
            "False Positive Rate: 0.0062959076600209865\n",
            "True Negitive Rate: 0.993704092339979\n",
            "False Negitive Rate: 0.9795918367346939\n",
            "Precision: 0.05263157894736842\n",
            "F-measure: 0.02941176470588235 \n",
            "\n"
          ]
        },
        {
          "output_type": "display_data",
          "data": {
            "text/plain": [
              "<Figure size 1080x432 with 0 Axes>"
            ]
          },
          "metadata": {}
        },
        {
          "output_type": "display_data",
          "data": {
            "image/png": "[encoded data removed]",
            "text/plain": [
              "<Figure size 288x288 with 2 Axes>"
            ]
          },
          "metadata": {
            "needs_background": "light"
          }
        }
      ]
    },
    {
      "cell_type": "code",
      "metadata": {
        "colab": {
          "base_uri": "https://localhost:8080/",
          "height": 506
        },
        "id": "rdkUc4rNKIPL",
        "outputId": "cf8fe272-ed8b-4c56-d06b-d63e9c56dc57"
      },
      "source": [
        "graph_and_stats(death_model_o, X_death_train, y_death_train)"
      ],
      "execution_count": null,
      "outputs": [
        {
          "output_type": "stream",
          "name": "stdout",
          "text": [
            "Log Loss: 0.2158519607465055 \n",
            "\n",
            "Accuracy: 0.9937504489619998\n",
            "Balenced Accuracy: 0.6704701298584507\n",
            "Null error rate: 106.91472868217055\n",
            "Error rate: 0.006249551038000144\n",
            "True Positive Rate: 0.34108527131782945\n",
            "False Positive Rate: 0.00014501160092807424\n",
            "True Negitive Rate: 0.9998549883990719\n",
            "False Negitive Rate: 0.6589147286821705\n",
            "Precision: 0.9565217391304348\n",
            "F-measure: 0.5028571428571429 \n",
            "\n"
          ]
        },
        {
          "output_type": "display_data",
          "data": {
            "text/plain": [
              "<Figure size 1080x432 with 0 Axes>"
            ]
          },
          "metadata": {}
        },
        {
          "output_type": "display_data",
          "data": {
            "image/png": "[encoded data removed]",
            "text/plain": [
              "<Figure size 288x288 with 2 Axes>"
            ]
          },
          "metadata": {
            "needs_background": "light"
          }
        }
      ]
    }
  ]
}