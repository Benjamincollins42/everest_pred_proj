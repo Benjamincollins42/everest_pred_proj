{
  "nbformat": 4,
  "nbformat_minor": 0,
  "metadata": {
    "colab": {
      "name": "modeling.ipynb",
      "provenance": [],
      "collapsed_sections": [
        "OOdd0y0zirPF",
        "A5xsuPukf1FF",
        "R8ozHDIFpA4v",
        "UpZiZ3NqXmAI",
        "PeA6TBHjo9kg",
        "5sYucrz1V3Wy",
        "5vHwxNsFjbx2"
      ]
    },
    "kernelspec": {
      "name": "python3",
      "display_name": "Python 3"
    },
    "language_info": {
      "name": "python"
    }
  },
  "cells": [
    {
      "cell_type": "code",
      "metadata": {
        "id": "cI7D5-XSG_GW",
        "colab": {
          "base_uri": "https://localhost:8080/"
        },
        "outputId": "8ee5a97e-a6b4-481c-d367-edb4a04cc686"
      },
      "source": [
        "import numpy as np\n",
        "import pandas as pd\n",
        "import matplotlib.pyplot as plt\n",
        "import seaborn as sns\n",
        "from sklearn.model_selection import train_test_split\n",
        "from xgboost import XGBClassifier\n",
        "from sklearn.metrics import accuracy_score, log_loss, classification_report, confusion_matrix\n",
        "from collections import Counter\n",
        "\n",
        "from imblearn.under_sampling import RandomUnderSampler\n",
        "from imblearn.over_sampling import SMOTE"
      ],
      "execution_count": null,
      "outputs": [
        {
          "output_type": "stream",
          "name": "stderr",
          "text": [
            "/usr/local/lib/python3.7/dist-packages/sklearn/externals/six.py:31: FutureWarning: The module is deprecated in version 0.21 and will be removed in version 0.23 since we've dropped support for Python 2.7. Please rely on the official version of six (https://pypi.org/project/six/).\n",
            "  \"(https://pypi.org/project/six/).\", FutureWarning)\n",
            "/usr/local/lib/python3.7/dist-packages/sklearn/utils/deprecation.py:144: FutureWarning: The sklearn.neighbors.base module is  deprecated in version 0.22 and will be removed in version 0.24. The corresponding classes / functions should instead be imported from sklearn.neighbors. Anything that cannot be imported from sklearn.neighbors is now part of the private API.\n",
            "  warnings.warn(message, FutureWarning)\n"
          ]
        }
      ]
    },
    {
      "cell_type": "markdown",
      "metadata": {
        "id": "OOdd0y0zirPF"
      },
      "source": [
        "###Data Loading"
      ]
    },
    {
      "cell_type": "code",
      "metadata": {
        "colab": {
          "base_uri": "https://localhost:8080/"
        },
        "id": "Oqn2pKQ4Hl8r",
        "outputId": "c0b8682d-55af-4e22-a8ba-acad198c8082"
      },
      "source": [
        "df = pd.read_csv('fully_processed_data.csv')\n",
        "df = df.drop('Unnamed: 0', axis=1)\n",
        "df.head()"
      ],
      "execution_count": null,
      "outputs": [
        {
          "output_type": "execute_result",
          "data": {
            "text/html": [
              "<div>\n",
              "<style scoped>\n",
              "    .dataframe tbody tr th:only-of-type {\n",
              "        vertical-align: middle;\n",
              "    }\n",
              "\n",
              "    .dataframe tbody tr th {\n",
              "        vertical-align: top;\n",
              "    }\n",
              "\n",
              "    .dataframe thead th {\n",
              "        text-align: right;\n",
              "    }\n",
              "</style>\n",
              "<table border=\"1\" class=\"dataframe\">\n",
              "  <thead>\n",
              "    <tr style=\"text-align: right;\">\n",
              "      <th></th>\n",
              "      <th>myear</th>\n",
              "      <th>calcage</th>\n",
              "      <th>leader</th>\n",
              "      <th>deputy</th>\n",
              "      <th>support</th>\n",
              "      <th>disabled</th>\n",
              "      <th>hired</th>\n",
              "      <th>sherpa</th>\n",
              "      <th>tibetan</th>\n",
              "      <th>msuccess</th>\n",
              "      <th>mclaimed</th>\n",
              "      <th>mdisputed</th>\n",
              "      <th>msolo</th>\n",
              "      <th>mtraverse</th>\n",
              "      <th>mski</th>\n",
              "      <th>mparapente</th>\n",
              "      <th>mspeed</th>\n",
              "      <th>mo2none</th>\n",
              "      <th>mo2climb</th>\n",
              "      <th>mo2descent</th>\n",
              "      <th>mo2sleep</th>\n",
              "      <th>mo2medical</th>\n",
              "      <th>death</th>\n",
              "      <th>hcn</th>\n",
              "      <th>host</th>\n",
              "      <th>totmembers</th>\n",
              "      <th>tothired</th>\n",
              "      <th>nohired</th>\n",
              "      <th>citizen_is_nation</th>\n",
              "      <th>hired_ratio</th>\n",
              "      <th>same_nat_as_leader</th>\n",
              "      <th>0</th>\n",
              "      <th>1</th>\n",
              "      <th>2</th>\n",
              "      <th>3</th>\n",
              "      <th>4</th>\n",
              "      <th>5</th>\n",
              "      <th>6</th>\n",
              "      <th>7</th>\n",
              "      <th>8</th>\n",
              "      <th>...</th>\n",
              "      <th>444</th>\n",
              "      <th>445</th>\n",
              "      <th>446</th>\n",
              "      <th>447</th>\n",
              "      <th>448</th>\n",
              "      <th>449</th>\n",
              "      <th>450</th>\n",
              "      <th>451</th>\n",
              "      <th>452</th>\n",
              "      <th>453</th>\n",
              "      <th>454</th>\n",
              "      <th>455</th>\n",
              "      <th>456</th>\n",
              "      <th>457</th>\n",
              "      <th>458</th>\n",
              "      <th>459</th>\n",
              "      <th>460</th>\n",
              "      <th>461</th>\n",
              "      <th>462</th>\n",
              "      <th>463</th>\n",
              "      <th>464</th>\n",
              "      <th>465</th>\n",
              "      <th>466</th>\n",
              "      <th>467</th>\n",
              "      <th>468</th>\n",
              "      <th>469</th>\n",
              "      <th>470</th>\n",
              "      <th>471</th>\n",
              "      <th>472</th>\n",
              "      <th>473</th>\n",
              "      <th>474</th>\n",
              "      <th>475</th>\n",
              "      <th>476</th>\n",
              "      <th>477</th>\n",
              "      <th>478</th>\n",
              "      <th>479</th>\n",
              "      <th>480</th>\n",
              "      <th>481</th>\n",
              "      <th>482</th>\n",
              "      <th>483</th>\n",
              "    </tr>\n",
              "  </thead>\n",
              "  <tbody>\n",
              "    <tr>\n",
              "      <th>0</th>\n",
              "      <td>1988</td>\n",
              "      <td>32</td>\n",
              "      <td>0</td>\n",
              "      <td>0</td>\n",
              "      <td>0</td>\n",
              "      <td>0</td>\n",
              "      <td>0</td>\n",
              "      <td>0</td>\n",
              "      <td>0</td>\n",
              "      <td>0</td>\n",
              "      <td>0</td>\n",
              "      <td>0</td>\n",
              "      <td>0</td>\n",
              "      <td>0</td>\n",
              "      <td>0</td>\n",
              "      <td>0</td>\n",
              "      <td>0</td>\n",
              "      <td>0</td>\n",
              "      <td>1</td>\n",
              "      <td>0</td>\n",
              "      <td>1</td>\n",
              "      <td>0</td>\n",
              "      <td>0</td>\n",
              "      <td>0</td>\n",
              "      <td>1</td>\n",
              "      <td>17</td>\n",
              "      <td>10</td>\n",
              "      <td>0</td>\n",
              "      <td>1</td>\n",
              "      <td>0.588235</td>\n",
              "      <td>1</td>\n",
              "      <td>0.0</td>\n",
              "      <td>0.0</td>\n",
              "      <td>0.0</td>\n",
              "      <td>1.0</td>\n",
              "      <td>0.0</td>\n",
              "      <td>1.0</td>\n",
              "      <td>0.0</td>\n",
              "      <td>0.0</td>\n",
              "      <td>0.0</td>\n",
              "      <td>...</td>\n",
              "      <td>0.0</td>\n",
              "      <td>0.0</td>\n",
              "      <td>0.0</td>\n",
              "      <td>0.0</td>\n",
              "      <td>0.0</td>\n",
              "      <td>0.0</td>\n",
              "      <td>0.0</td>\n",
              "      <td>0.0</td>\n",
              "      <td>0.0</td>\n",
              "      <td>0.0</td>\n",
              "      <td>0.0</td>\n",
              "      <td>0.0</td>\n",
              "      <td>0.0</td>\n",
              "      <td>0.0</td>\n",
              "      <td>0.0</td>\n",
              "      <td>0.0</td>\n",
              "      <td>0.0</td>\n",
              "      <td>0.0</td>\n",
              "      <td>0.0</td>\n",
              "      <td>0.0</td>\n",
              "      <td>0.0</td>\n",
              "      <td>0.0</td>\n",
              "      <td>0.0</td>\n",
              "      <td>0.0</td>\n",
              "      <td>0.0</td>\n",
              "      <td>0.0</td>\n",
              "      <td>0.0</td>\n",
              "      <td>0.0</td>\n",
              "      <td>0.0</td>\n",
              "      <td>0.0</td>\n",
              "      <td>0.0</td>\n",
              "      <td>0.0</td>\n",
              "      <td>0.0</td>\n",
              "      <td>0.0</td>\n",
              "      <td>0.0</td>\n",
              "      <td>0.0</td>\n",
              "      <td>1.0</td>\n",
              "      <td>0.0</td>\n",
              "      <td>0.0</td>\n",
              "      <td>0.0</td>\n",
              "    </tr>\n",
              "    <tr>\n",
              "      <th>1</th>\n",
              "      <td>1988</td>\n",
              "      <td>40</td>\n",
              "      <td>0</td>\n",
              "      <td>0</td>\n",
              "      <td>0</td>\n",
              "      <td>0</td>\n",
              "      <td>1</td>\n",
              "      <td>1</td>\n",
              "      <td>0</td>\n",
              "      <td>0</td>\n",
              "      <td>0</td>\n",
              "      <td>0</td>\n",
              "      <td>0</td>\n",
              "      <td>0</td>\n",
              "      <td>0</td>\n",
              "      <td>0</td>\n",
              "      <td>0</td>\n",
              "      <td>1</td>\n",
              "      <td>0</td>\n",
              "      <td>0</td>\n",
              "      <td>0</td>\n",
              "      <td>0</td>\n",
              "      <td>0</td>\n",
              "      <td>0</td>\n",
              "      <td>1</td>\n",
              "      <td>17</td>\n",
              "      <td>10</td>\n",
              "      <td>0</td>\n",
              "      <td>0</td>\n",
              "      <td>0.588235</td>\n",
              "      <td>0</td>\n",
              "      <td>0.0</td>\n",
              "      <td>0.0</td>\n",
              "      <td>0.0</td>\n",
              "      <td>1.0</td>\n",
              "      <td>0.0</td>\n",
              "      <td>1.0</td>\n",
              "      <td>0.0</td>\n",
              "      <td>0.0</td>\n",
              "      <td>0.0</td>\n",
              "      <td>...</td>\n",
              "      <td>0.0</td>\n",
              "      <td>0.0</td>\n",
              "      <td>0.0</td>\n",
              "      <td>0.0</td>\n",
              "      <td>0.0</td>\n",
              "      <td>0.0</td>\n",
              "      <td>0.0</td>\n",
              "      <td>0.0</td>\n",
              "      <td>0.0</td>\n",
              "      <td>0.0</td>\n",
              "      <td>0.0</td>\n",
              "      <td>0.0</td>\n",
              "      <td>0.0</td>\n",
              "      <td>0.0</td>\n",
              "      <td>0.0</td>\n",
              "      <td>0.0</td>\n",
              "      <td>0.0</td>\n",
              "      <td>0.0</td>\n",
              "      <td>0.0</td>\n",
              "      <td>0.0</td>\n",
              "      <td>0.0</td>\n",
              "      <td>0.0</td>\n",
              "      <td>0.0</td>\n",
              "      <td>0.0</td>\n",
              "      <td>0.0</td>\n",
              "      <td>0.0</td>\n",
              "      <td>0.0</td>\n",
              "      <td>0.0</td>\n",
              "      <td>0.0</td>\n",
              "      <td>0.0</td>\n",
              "      <td>0.0</td>\n",
              "      <td>0.0</td>\n",
              "      <td>0.0</td>\n",
              "      <td>0.0</td>\n",
              "      <td>0.0</td>\n",
              "      <td>0.0</td>\n",
              "      <td>1.0</td>\n",
              "      <td>0.0</td>\n",
              "      <td>0.0</td>\n",
              "      <td>0.0</td>\n",
              "    </tr>\n",
              "    <tr>\n",
              "      <th>2</th>\n",
              "      <td>1988</td>\n",
              "      <td>29</td>\n",
              "      <td>0</td>\n",
              "      <td>0</td>\n",
              "      <td>0</td>\n",
              "      <td>0</td>\n",
              "      <td>1</td>\n",
              "      <td>1</td>\n",
              "      <td>0</td>\n",
              "      <td>0</td>\n",
              "      <td>0</td>\n",
              "      <td>0</td>\n",
              "      <td>0</td>\n",
              "      <td>0</td>\n",
              "      <td>0</td>\n",
              "      <td>0</td>\n",
              "      <td>0</td>\n",
              "      <td>0</td>\n",
              "      <td>1</td>\n",
              "      <td>0</td>\n",
              "      <td>1</td>\n",
              "      <td>0</td>\n",
              "      <td>1</td>\n",
              "      <td>0</td>\n",
              "      <td>1</td>\n",
              "      <td>17</td>\n",
              "      <td>10</td>\n",
              "      <td>0</td>\n",
              "      <td>0</td>\n",
              "      <td>0.588235</td>\n",
              "      <td>0</td>\n",
              "      <td>0.0</td>\n",
              "      <td>0.0</td>\n",
              "      <td>0.0</td>\n",
              "      <td>1.0</td>\n",
              "      <td>0.0</td>\n",
              "      <td>1.0</td>\n",
              "      <td>0.0</td>\n",
              "      <td>0.0</td>\n",
              "      <td>0.0</td>\n",
              "      <td>...</td>\n",
              "      <td>0.0</td>\n",
              "      <td>0.0</td>\n",
              "      <td>0.0</td>\n",
              "      <td>0.0</td>\n",
              "      <td>0.0</td>\n",
              "      <td>0.0</td>\n",
              "      <td>0.0</td>\n",
              "      <td>0.0</td>\n",
              "      <td>0.0</td>\n",
              "      <td>0.0</td>\n",
              "      <td>0.0</td>\n",
              "      <td>0.0</td>\n",
              "      <td>0.0</td>\n",
              "      <td>0.0</td>\n",
              "      <td>0.0</td>\n",
              "      <td>0.0</td>\n",
              "      <td>0.0</td>\n",
              "      <td>0.0</td>\n",
              "      <td>0.0</td>\n",
              "      <td>0.0</td>\n",
              "      <td>0.0</td>\n",
              "      <td>0.0</td>\n",
              "      <td>0.0</td>\n",
              "      <td>0.0</td>\n",
              "      <td>0.0</td>\n",
              "      <td>0.0</td>\n",
              "      <td>0.0</td>\n",
              "      <td>0.0</td>\n",
              "      <td>0.0</td>\n",
              "      <td>0.0</td>\n",
              "      <td>0.0</td>\n",
              "      <td>0.0</td>\n",
              "      <td>0.0</td>\n",
              "      <td>0.0</td>\n",
              "      <td>0.0</td>\n",
              "      <td>0.0</td>\n",
              "      <td>1.0</td>\n",
              "      <td>0.0</td>\n",
              "      <td>0.0</td>\n",
              "      <td>0.0</td>\n",
              "    </tr>\n",
              "    <tr>\n",
              "      <th>3</th>\n",
              "      <td>1988</td>\n",
              "      <td>27</td>\n",
              "      <td>0</td>\n",
              "      <td>0</td>\n",
              "      <td>0</td>\n",
              "      <td>0</td>\n",
              "      <td>1</td>\n",
              "      <td>1</td>\n",
              "      <td>0</td>\n",
              "      <td>0</td>\n",
              "      <td>0</td>\n",
              "      <td>0</td>\n",
              "      <td>0</td>\n",
              "      <td>0</td>\n",
              "      <td>0</td>\n",
              "      <td>0</td>\n",
              "      <td>0</td>\n",
              "      <td>1</td>\n",
              "      <td>0</td>\n",
              "      <td>0</td>\n",
              "      <td>0</td>\n",
              "      <td>0</td>\n",
              "      <td>0</td>\n",
              "      <td>0</td>\n",
              "      <td>1</td>\n",
              "      <td>17</td>\n",
              "      <td>10</td>\n",
              "      <td>0</td>\n",
              "      <td>0</td>\n",
              "      <td>0.588235</td>\n",
              "      <td>0</td>\n",
              "      <td>0.0</td>\n",
              "      <td>0.0</td>\n",
              "      <td>0.0</td>\n",
              "      <td>1.0</td>\n",
              "      <td>0.0</td>\n",
              "      <td>1.0</td>\n",
              "      <td>0.0</td>\n",
              "      <td>0.0</td>\n",
              "      <td>0.0</td>\n",
              "      <td>...</td>\n",
              "      <td>0.0</td>\n",
              "      <td>0.0</td>\n",
              "      <td>0.0</td>\n",
              "      <td>0.0</td>\n",
              "      <td>0.0</td>\n",
              "      <td>0.0</td>\n",
              "      <td>0.0</td>\n",
              "      <td>0.0</td>\n",
              "      <td>0.0</td>\n",
              "      <td>0.0</td>\n",
              "      <td>0.0</td>\n",
              "      <td>0.0</td>\n",
              "      <td>0.0</td>\n",
              "      <td>0.0</td>\n",
              "      <td>0.0</td>\n",
              "      <td>0.0</td>\n",
              "      <td>0.0</td>\n",
              "      <td>0.0</td>\n",
              "      <td>0.0</td>\n",
              "      <td>0.0</td>\n",
              "      <td>0.0</td>\n",
              "      <td>0.0</td>\n",
              "      <td>0.0</td>\n",
              "      <td>0.0</td>\n",
              "      <td>0.0</td>\n",
              "      <td>0.0</td>\n",
              "      <td>0.0</td>\n",
              "      <td>0.0</td>\n",
              "      <td>0.0</td>\n",
              "      <td>0.0</td>\n",
              "      <td>0.0</td>\n",
              "      <td>0.0</td>\n",
              "      <td>0.0</td>\n",
              "      <td>0.0</td>\n",
              "      <td>0.0</td>\n",
              "      <td>0.0</td>\n",
              "      <td>1.0</td>\n",
              "      <td>0.0</td>\n",
              "      <td>0.0</td>\n",
              "      <td>0.0</td>\n",
              "    </tr>\n",
              "    <tr>\n",
              "      <th>4</th>\n",
              "      <td>1988</td>\n",
              "      <td>38</td>\n",
              "      <td>0</td>\n",
              "      <td>0</td>\n",
              "      <td>0</td>\n",
              "      <td>0</td>\n",
              "      <td>0</td>\n",
              "      <td>0</td>\n",
              "      <td>0</td>\n",
              "      <td>0</td>\n",
              "      <td>0</td>\n",
              "      <td>0</td>\n",
              "      <td>0</td>\n",
              "      <td>0</td>\n",
              "      <td>0</td>\n",
              "      <td>0</td>\n",
              "      <td>0</td>\n",
              "      <td>0</td>\n",
              "      <td>0</td>\n",
              "      <td>0</td>\n",
              "      <td>0</td>\n",
              "      <td>0</td>\n",
              "      <td>0</td>\n",
              "      <td>0</td>\n",
              "      <td>1</td>\n",
              "      <td>17</td>\n",
              "      <td>10</td>\n",
              "      <td>0</td>\n",
              "      <td>0</td>\n",
              "      <td>0.588235</td>\n",
              "      <td>0</td>\n",
              "      <td>0.0</td>\n",
              "      <td>0.0</td>\n",
              "      <td>0.0</td>\n",
              "      <td>1.0</td>\n",
              "      <td>0.0</td>\n",
              "      <td>1.0</td>\n",
              "      <td>0.0</td>\n",
              "      <td>0.0</td>\n",
              "      <td>0.0</td>\n",
              "      <td>...</td>\n",
              "      <td>0.0</td>\n",
              "      <td>0.0</td>\n",
              "      <td>0.0</td>\n",
              "      <td>0.0</td>\n",
              "      <td>0.0</td>\n",
              "      <td>0.0</td>\n",
              "      <td>0.0</td>\n",
              "      <td>0.0</td>\n",
              "      <td>0.0</td>\n",
              "      <td>0.0</td>\n",
              "      <td>0.0</td>\n",
              "      <td>0.0</td>\n",
              "      <td>0.0</td>\n",
              "      <td>0.0</td>\n",
              "      <td>0.0</td>\n",
              "      <td>0.0</td>\n",
              "      <td>0.0</td>\n",
              "      <td>0.0</td>\n",
              "      <td>0.0</td>\n",
              "      <td>0.0</td>\n",
              "      <td>0.0</td>\n",
              "      <td>0.0</td>\n",
              "      <td>0.0</td>\n",
              "      <td>0.0</td>\n",
              "      <td>0.0</td>\n",
              "      <td>0.0</td>\n",
              "      <td>0.0</td>\n",
              "      <td>0.0</td>\n",
              "      <td>0.0</td>\n",
              "      <td>0.0</td>\n",
              "      <td>0.0</td>\n",
              "      <td>0.0</td>\n",
              "      <td>0.0</td>\n",
              "      <td>0.0</td>\n",
              "      <td>0.0</td>\n",
              "      <td>0.0</td>\n",
              "      <td>1.0</td>\n",
              "      <td>0.0</td>\n",
              "      <td>0.0</td>\n",
              "      <td>0.0</td>\n",
              "    </tr>\n",
              "  </tbody>\n",
              "</table>\n",
              "<p>5 rows × 515 columns</p>\n",
              "</div>"
            ],
            "text/plain": [
              "   myear  calcage  leader  deputy  support  ...  479  480  481  482  483\n",
              "0   1988       32       0       0        0  ...  0.0  1.0  0.0  0.0  0.0\n",
              "1   1988       40       0       0        0  ...  0.0  1.0  0.0  0.0  0.0\n",
              "2   1988       29       0       0        0  ...  0.0  1.0  0.0  0.0  0.0\n",
              "3   1988       27       0       0        0  ...  0.0  1.0  0.0  0.0  0.0\n",
              "4   1988       38       0       0        0  ...  0.0  1.0  0.0  0.0  0.0\n",
              "\n",
              "[5 rows x 515 columns]"
            ]
          },
          "metadata": {},
          "execution_count": 3
        }
      ]
    },
    {
      "cell_type": "code",
      "metadata": {
        "id": "jPgpuK6lH2Mx"
      },
      "source": [
        "y_summit = df.msuccess\n",
        "y_death = df.death\n",
        "X = df.drop(['msuccess', 'death'], axis=1)"
      ],
      "execution_count": null,
      "outputs": []
    },
    {
      "cell_type": "code",
      "metadata": {
        "colab": {
          "base_uri": "https://localhost:8080/"
        },
        "id": "L4Q5Guc6Xh8t",
        "outputId": "a855146c-010a-40e6-a828-143041343302"
      },
      "source": [
        "modern_data = pd.read_csv('modern_no_year.csv')\n",
        "modern_data = modern_data.drop('Unnamed: 0', axis=1)\n",
        "modern_data.head()"
      ],
      "execution_count": null,
      "outputs": [
        {
          "output_type": "execute_result",
          "data": {
            "text/html": [
              "<div>\n",
              "<style scoped>\n",
              "    .dataframe tbody tr th:only-of-type {\n",
              "        vertical-align: middle;\n",
              "    }\n",
              "\n",
              "    .dataframe tbody tr th {\n",
              "        vertical-align: top;\n",
              "    }\n",
              "\n",
              "    .dataframe thead th {\n",
              "        text-align: right;\n",
              "    }\n",
              "</style>\n",
              "<table border=\"1\" class=\"dataframe\">\n",
              "  <thead>\n",
              "    <tr style=\"text-align: right;\">\n",
              "      <th></th>\n",
              "      <th>calcage</th>\n",
              "      <th>leader</th>\n",
              "      <th>deputy</th>\n",
              "      <th>support</th>\n",
              "      <th>disabled</th>\n",
              "      <th>hired</th>\n",
              "      <th>sherpa</th>\n",
              "      <th>tibetan</th>\n",
              "      <th>msuccess</th>\n",
              "      <th>mclaimed</th>\n",
              "      <th>mdisputed</th>\n",
              "      <th>msolo</th>\n",
              "      <th>mtraverse</th>\n",
              "      <th>mski</th>\n",
              "      <th>mparapente</th>\n",
              "      <th>mspeed</th>\n",
              "      <th>mo2none</th>\n",
              "      <th>mo2climb</th>\n",
              "      <th>mo2descent</th>\n",
              "      <th>mo2sleep</th>\n",
              "      <th>mo2medical</th>\n",
              "      <th>death</th>\n",
              "      <th>host</th>\n",
              "      <th>totmembers</th>\n",
              "      <th>tothired</th>\n",
              "      <th>nohired</th>\n",
              "      <th>citizen_is_nation</th>\n",
              "      <th>hired_ratio</th>\n",
              "      <th>same_nat_as_leader</th>\n",
              "      <th>0</th>\n",
              "      <th>1</th>\n",
              "      <th>2</th>\n",
              "      <th>3</th>\n",
              "      <th>4</th>\n",
              "      <th>5</th>\n",
              "      <th>6</th>\n",
              "      <th>7</th>\n",
              "      <th>8</th>\n",
              "      <th>9</th>\n",
              "      <th>10</th>\n",
              "      <th>...</th>\n",
              "      <th>444</th>\n",
              "      <th>445</th>\n",
              "      <th>446</th>\n",
              "      <th>447</th>\n",
              "      <th>448</th>\n",
              "      <th>449</th>\n",
              "      <th>450</th>\n",
              "      <th>451</th>\n",
              "      <th>452</th>\n",
              "      <th>453</th>\n",
              "      <th>454</th>\n",
              "      <th>455</th>\n",
              "      <th>456</th>\n",
              "      <th>457</th>\n",
              "      <th>458</th>\n",
              "      <th>459</th>\n",
              "      <th>460</th>\n",
              "      <th>461</th>\n",
              "      <th>462</th>\n",
              "      <th>463</th>\n",
              "      <th>464</th>\n",
              "      <th>465</th>\n",
              "      <th>466</th>\n",
              "      <th>467</th>\n",
              "      <th>468</th>\n",
              "      <th>469</th>\n",
              "      <th>470</th>\n",
              "      <th>471</th>\n",
              "      <th>472</th>\n",
              "      <th>473</th>\n",
              "      <th>474</th>\n",
              "      <th>475</th>\n",
              "      <th>476</th>\n",
              "      <th>477</th>\n",
              "      <th>478</th>\n",
              "      <th>479</th>\n",
              "      <th>480</th>\n",
              "      <th>481</th>\n",
              "      <th>482</th>\n",
              "      <th>483</th>\n",
              "    </tr>\n",
              "  </thead>\n",
              "  <tbody>\n",
              "    <tr>\n",
              "      <th>0</th>\n",
              "      <td>38</td>\n",
              "      <td>0</td>\n",
              "      <td>0</td>\n",
              "      <td>0</td>\n",
              "      <td>0</td>\n",
              "      <td>0</td>\n",
              "      <td>0</td>\n",
              "      <td>0</td>\n",
              "      <td>0</td>\n",
              "      <td>0</td>\n",
              "      <td>0</td>\n",
              "      <td>0</td>\n",
              "      <td>0</td>\n",
              "      <td>0</td>\n",
              "      <td>0</td>\n",
              "      <td>0</td>\n",
              "      <td>1</td>\n",
              "      <td>0</td>\n",
              "      <td>0</td>\n",
              "      <td>0</td>\n",
              "      <td>0</td>\n",
              "      <td>0</td>\n",
              "      <td>1</td>\n",
              "      <td>7</td>\n",
              "      <td>0</td>\n",
              "      <td>1</td>\n",
              "      <td>0</td>\n",
              "      <td>0.0</td>\n",
              "      <td>0</td>\n",
              "      <td>0.0</td>\n",
              "      <td>0.0</td>\n",
              "      <td>1.0</td>\n",
              "      <td>0.0</td>\n",
              "      <td>0.0</td>\n",
              "      <td>1.0</td>\n",
              "      <td>0.0</td>\n",
              "      <td>0.0</td>\n",
              "      <td>0.0</td>\n",
              "      <td>0.0</td>\n",
              "      <td>0.0</td>\n",
              "      <td>...</td>\n",
              "      <td>0.0</td>\n",
              "      <td>0.0</td>\n",
              "      <td>0.0</td>\n",
              "      <td>0.0</td>\n",
              "      <td>0.0</td>\n",
              "      <td>0.0</td>\n",
              "      <td>0.0</td>\n",
              "      <td>0.0</td>\n",
              "      <td>0.0</td>\n",
              "      <td>0.0</td>\n",
              "      <td>0.0</td>\n",
              "      <td>0.0</td>\n",
              "      <td>0.0</td>\n",
              "      <td>0.0</td>\n",
              "      <td>0.0</td>\n",
              "      <td>0.0</td>\n",
              "      <td>0.0</td>\n",
              "      <td>0.0</td>\n",
              "      <td>0.0</td>\n",
              "      <td>0.0</td>\n",
              "      <td>0.0</td>\n",
              "      <td>0.0</td>\n",
              "      <td>0.0</td>\n",
              "      <td>0.0</td>\n",
              "      <td>0.0</td>\n",
              "      <td>0.0</td>\n",
              "      <td>0.0</td>\n",
              "      <td>0.0</td>\n",
              "      <td>0.0</td>\n",
              "      <td>0.0</td>\n",
              "      <td>0.0</td>\n",
              "      <td>0.0</td>\n",
              "      <td>0.0</td>\n",
              "      <td>0.0</td>\n",
              "      <td>1.0</td>\n",
              "      <td>0.0</td>\n",
              "      <td>0.0</td>\n",
              "      <td>0.0</td>\n",
              "      <td>0.0</td>\n",
              "      <td>0.0</td>\n",
              "    </tr>\n",
              "    <tr>\n",
              "      <th>1</th>\n",
              "      <td>35</td>\n",
              "      <td>0</td>\n",
              "      <td>0</td>\n",
              "      <td>0</td>\n",
              "      <td>0</td>\n",
              "      <td>0</td>\n",
              "      <td>0</td>\n",
              "      <td>0</td>\n",
              "      <td>0</td>\n",
              "      <td>0</td>\n",
              "      <td>0</td>\n",
              "      <td>0</td>\n",
              "      <td>0</td>\n",
              "      <td>0</td>\n",
              "      <td>0</td>\n",
              "      <td>0</td>\n",
              "      <td>1</td>\n",
              "      <td>0</td>\n",
              "      <td>0</td>\n",
              "      <td>0</td>\n",
              "      <td>0</td>\n",
              "      <td>0</td>\n",
              "      <td>1</td>\n",
              "      <td>7</td>\n",
              "      <td>0</td>\n",
              "      <td>1</td>\n",
              "      <td>0</td>\n",
              "      <td>0.0</td>\n",
              "      <td>0</td>\n",
              "      <td>0.0</td>\n",
              "      <td>0.0</td>\n",
              "      <td>1.0</td>\n",
              "      <td>0.0</td>\n",
              "      <td>0.0</td>\n",
              "      <td>1.0</td>\n",
              "      <td>0.0</td>\n",
              "      <td>0.0</td>\n",
              "      <td>0.0</td>\n",
              "      <td>0.0</td>\n",
              "      <td>0.0</td>\n",
              "      <td>...</td>\n",
              "      <td>0.0</td>\n",
              "      <td>0.0</td>\n",
              "      <td>0.0</td>\n",
              "      <td>0.0</td>\n",
              "      <td>0.0</td>\n",
              "      <td>0.0</td>\n",
              "      <td>0.0</td>\n",
              "      <td>0.0</td>\n",
              "      <td>0.0</td>\n",
              "      <td>0.0</td>\n",
              "      <td>0.0</td>\n",
              "      <td>0.0</td>\n",
              "      <td>0.0</td>\n",
              "      <td>0.0</td>\n",
              "      <td>0.0</td>\n",
              "      <td>0.0</td>\n",
              "      <td>0.0</td>\n",
              "      <td>0.0</td>\n",
              "      <td>0.0</td>\n",
              "      <td>0.0</td>\n",
              "      <td>0.0</td>\n",
              "      <td>0.0</td>\n",
              "      <td>0.0</td>\n",
              "      <td>0.0</td>\n",
              "      <td>0.0</td>\n",
              "      <td>0.0</td>\n",
              "      <td>0.0</td>\n",
              "      <td>0.0</td>\n",
              "      <td>0.0</td>\n",
              "      <td>0.0</td>\n",
              "      <td>0.0</td>\n",
              "      <td>0.0</td>\n",
              "      <td>0.0</td>\n",
              "      <td>0.0</td>\n",
              "      <td>1.0</td>\n",
              "      <td>0.0</td>\n",
              "      <td>0.0</td>\n",
              "      <td>0.0</td>\n",
              "      <td>0.0</td>\n",
              "      <td>0.0</td>\n",
              "    </tr>\n",
              "    <tr>\n",
              "      <th>2</th>\n",
              "      <td>32</td>\n",
              "      <td>0</td>\n",
              "      <td>0</td>\n",
              "      <td>0</td>\n",
              "      <td>0</td>\n",
              "      <td>0</td>\n",
              "      <td>0</td>\n",
              "      <td>0</td>\n",
              "      <td>0</td>\n",
              "      <td>0</td>\n",
              "      <td>0</td>\n",
              "      <td>0</td>\n",
              "      <td>0</td>\n",
              "      <td>0</td>\n",
              "      <td>0</td>\n",
              "      <td>0</td>\n",
              "      <td>1</td>\n",
              "      <td>0</td>\n",
              "      <td>0</td>\n",
              "      <td>0</td>\n",
              "      <td>0</td>\n",
              "      <td>0</td>\n",
              "      <td>1</td>\n",
              "      <td>7</td>\n",
              "      <td>0</td>\n",
              "      <td>1</td>\n",
              "      <td>0</td>\n",
              "      <td>0.0</td>\n",
              "      <td>0</td>\n",
              "      <td>0.0</td>\n",
              "      <td>0.0</td>\n",
              "      <td>1.0</td>\n",
              "      <td>0.0</td>\n",
              "      <td>0.0</td>\n",
              "      <td>1.0</td>\n",
              "      <td>0.0</td>\n",
              "      <td>0.0</td>\n",
              "      <td>0.0</td>\n",
              "      <td>0.0</td>\n",
              "      <td>0.0</td>\n",
              "      <td>...</td>\n",
              "      <td>0.0</td>\n",
              "      <td>0.0</td>\n",
              "      <td>0.0</td>\n",
              "      <td>0.0</td>\n",
              "      <td>0.0</td>\n",
              "      <td>0.0</td>\n",
              "      <td>0.0</td>\n",
              "      <td>0.0</td>\n",
              "      <td>0.0</td>\n",
              "      <td>0.0</td>\n",
              "      <td>0.0</td>\n",
              "      <td>0.0</td>\n",
              "      <td>0.0</td>\n",
              "      <td>0.0</td>\n",
              "      <td>0.0</td>\n",
              "      <td>0.0</td>\n",
              "      <td>0.0</td>\n",
              "      <td>0.0</td>\n",
              "      <td>0.0</td>\n",
              "      <td>0.0</td>\n",
              "      <td>0.0</td>\n",
              "      <td>0.0</td>\n",
              "      <td>0.0</td>\n",
              "      <td>0.0</td>\n",
              "      <td>0.0</td>\n",
              "      <td>0.0</td>\n",
              "      <td>0.0</td>\n",
              "      <td>0.0</td>\n",
              "      <td>0.0</td>\n",
              "      <td>0.0</td>\n",
              "      <td>0.0</td>\n",
              "      <td>0.0</td>\n",
              "      <td>0.0</td>\n",
              "      <td>0.0</td>\n",
              "      <td>1.0</td>\n",
              "      <td>0.0</td>\n",
              "      <td>0.0</td>\n",
              "      <td>0.0</td>\n",
              "      <td>0.0</td>\n",
              "      <td>0.0</td>\n",
              "    </tr>\n",
              "    <tr>\n",
              "      <th>3</th>\n",
              "      <td>40</td>\n",
              "      <td>0</td>\n",
              "      <td>0</td>\n",
              "      <td>0</td>\n",
              "      <td>0</td>\n",
              "      <td>0</td>\n",
              "      <td>0</td>\n",
              "      <td>0</td>\n",
              "      <td>0</td>\n",
              "      <td>0</td>\n",
              "      <td>0</td>\n",
              "      <td>0</td>\n",
              "      <td>0</td>\n",
              "      <td>0</td>\n",
              "      <td>0</td>\n",
              "      <td>0</td>\n",
              "      <td>1</td>\n",
              "      <td>0</td>\n",
              "      <td>0</td>\n",
              "      <td>0</td>\n",
              "      <td>0</td>\n",
              "      <td>0</td>\n",
              "      <td>1</td>\n",
              "      <td>7</td>\n",
              "      <td>0</td>\n",
              "      <td>1</td>\n",
              "      <td>0</td>\n",
              "      <td>0.0</td>\n",
              "      <td>0</td>\n",
              "      <td>0.0</td>\n",
              "      <td>0.0</td>\n",
              "      <td>1.0</td>\n",
              "      <td>0.0</td>\n",
              "      <td>0.0</td>\n",
              "      <td>1.0</td>\n",
              "      <td>0.0</td>\n",
              "      <td>0.0</td>\n",
              "      <td>0.0</td>\n",
              "      <td>0.0</td>\n",
              "      <td>0.0</td>\n",
              "      <td>...</td>\n",
              "      <td>0.0</td>\n",
              "      <td>0.0</td>\n",
              "      <td>0.0</td>\n",
              "      <td>0.0</td>\n",
              "      <td>0.0</td>\n",
              "      <td>0.0</td>\n",
              "      <td>0.0</td>\n",
              "      <td>0.0</td>\n",
              "      <td>0.0</td>\n",
              "      <td>0.0</td>\n",
              "      <td>0.0</td>\n",
              "      <td>0.0</td>\n",
              "      <td>0.0</td>\n",
              "      <td>0.0</td>\n",
              "      <td>0.0</td>\n",
              "      <td>0.0</td>\n",
              "      <td>0.0</td>\n",
              "      <td>0.0</td>\n",
              "      <td>0.0</td>\n",
              "      <td>0.0</td>\n",
              "      <td>0.0</td>\n",
              "      <td>0.0</td>\n",
              "      <td>0.0</td>\n",
              "      <td>0.0</td>\n",
              "      <td>0.0</td>\n",
              "      <td>0.0</td>\n",
              "      <td>0.0</td>\n",
              "      <td>0.0</td>\n",
              "      <td>0.0</td>\n",
              "      <td>0.0</td>\n",
              "      <td>0.0</td>\n",
              "      <td>0.0</td>\n",
              "      <td>0.0</td>\n",
              "      <td>0.0</td>\n",
              "      <td>1.0</td>\n",
              "      <td>0.0</td>\n",
              "      <td>0.0</td>\n",
              "      <td>0.0</td>\n",
              "      <td>0.0</td>\n",
              "      <td>0.0</td>\n",
              "    </tr>\n",
              "    <tr>\n",
              "      <th>4</th>\n",
              "      <td>41</td>\n",
              "      <td>0</td>\n",
              "      <td>0</td>\n",
              "      <td>0</td>\n",
              "      <td>0</td>\n",
              "      <td>0</td>\n",
              "      <td>0</td>\n",
              "      <td>0</td>\n",
              "      <td>0</td>\n",
              "      <td>0</td>\n",
              "      <td>0</td>\n",
              "      <td>0</td>\n",
              "      <td>0</td>\n",
              "      <td>0</td>\n",
              "      <td>0</td>\n",
              "      <td>0</td>\n",
              "      <td>1</td>\n",
              "      <td>0</td>\n",
              "      <td>0</td>\n",
              "      <td>0</td>\n",
              "      <td>0</td>\n",
              "      <td>0</td>\n",
              "      <td>1</td>\n",
              "      <td>7</td>\n",
              "      <td>0</td>\n",
              "      <td>1</td>\n",
              "      <td>1</td>\n",
              "      <td>0.0</td>\n",
              "      <td>1</td>\n",
              "      <td>0.0</td>\n",
              "      <td>0.0</td>\n",
              "      <td>1.0</td>\n",
              "      <td>0.0</td>\n",
              "      <td>0.0</td>\n",
              "      <td>1.0</td>\n",
              "      <td>0.0</td>\n",
              "      <td>0.0</td>\n",
              "      <td>0.0</td>\n",
              "      <td>0.0</td>\n",
              "      <td>0.0</td>\n",
              "      <td>...</td>\n",
              "      <td>0.0</td>\n",
              "      <td>0.0</td>\n",
              "      <td>0.0</td>\n",
              "      <td>0.0</td>\n",
              "      <td>0.0</td>\n",
              "      <td>0.0</td>\n",
              "      <td>0.0</td>\n",
              "      <td>0.0</td>\n",
              "      <td>0.0</td>\n",
              "      <td>0.0</td>\n",
              "      <td>0.0</td>\n",
              "      <td>0.0</td>\n",
              "      <td>0.0</td>\n",
              "      <td>0.0</td>\n",
              "      <td>0.0</td>\n",
              "      <td>0.0</td>\n",
              "      <td>0.0</td>\n",
              "      <td>0.0</td>\n",
              "      <td>0.0</td>\n",
              "      <td>0.0</td>\n",
              "      <td>0.0</td>\n",
              "      <td>0.0</td>\n",
              "      <td>0.0</td>\n",
              "      <td>0.0</td>\n",
              "      <td>0.0</td>\n",
              "      <td>0.0</td>\n",
              "      <td>0.0</td>\n",
              "      <td>0.0</td>\n",
              "      <td>0.0</td>\n",
              "      <td>0.0</td>\n",
              "      <td>0.0</td>\n",
              "      <td>0.0</td>\n",
              "      <td>0.0</td>\n",
              "      <td>0.0</td>\n",
              "      <td>1.0</td>\n",
              "      <td>0.0</td>\n",
              "      <td>0.0</td>\n",
              "      <td>0.0</td>\n",
              "      <td>0.0</td>\n",
              "      <td>0.0</td>\n",
              "    </tr>\n",
              "  </tbody>\n",
              "</table>\n",
              "<p>5 rows × 513 columns</p>\n",
              "</div>"
            ],
            "text/plain": [
              "   calcage  leader  deputy  support  disabled  ...  479  480  481  482  483\n",
              "0       38       0       0        0         0  ...  0.0  0.0  0.0  0.0  0.0\n",
              "1       35       0       0        0         0  ...  0.0  0.0  0.0  0.0  0.0\n",
              "2       32       0       0        0         0  ...  0.0  0.0  0.0  0.0  0.0\n",
              "3       40       0       0        0         0  ...  0.0  0.0  0.0  0.0  0.0\n",
              "4       41       0       0        0         0  ...  0.0  0.0  0.0  0.0  0.0\n",
              "\n",
              "[5 rows x 513 columns]"
            ]
          },
          "metadata": {},
          "execution_count": 5
        }
      ]
    },
    {
      "cell_type": "code",
      "metadata": {
        "id": "MwkAYvBIdBzd"
      },
      "source": [
        "y_mod_summit = modern_data.msuccess\n",
        "y_mod_death = modern_data.death\n",
        "X_mod = modern_data.drop(['msuccess', 'death'], axis=1)"
      ],
      "execution_count": null,
      "outputs": []
    },
    {
      "cell_type": "markdown",
      "metadata": {
        "id": "A5xsuPukf1FF"
      },
      "source": [
        "###Utility Functions"
      ]
    },
    {
      "cell_type": "code",
      "metadata": {
        "id": "qNgHwDQxdWMZ"
      },
      "source": [
        "def graph_and_stats(model, X_valid, y_valid):\n",
        "\n",
        "  predictions = model.predict(X_valid)\n",
        "\n",
        "  print(\"Log Loss:\", log_loss(y_valid, predictions), \"\\n\")\n",
        "\n",
        "  confusion = confusion_matrix(y_valid, predictions)\n",
        "\n",
        "  # calculating all the required stats for full understanding\n",
        "  acc = (confusion[0][0] + confusion[1][1])/ (confusion[0][0]\n",
        "      + confusion[0][1] + confusion[1][0] + confusion[1][1])\n",
        "  ner = (confusion[0][0] + confusion[0][1]) / (confusion[1][0]\n",
        "        + confusion[1][1])\n",
        "  missclass = (confusion[0][1] + confusion[1][0]) / (\n",
        "      confusion[0][0] + confusion[0][1] + confusion[1][0] +\n",
        "      confusion[1][1])\n",
        "  tpr = confusion[1][1] / (confusion[1][0] + confusion[1][1])\n",
        "  fpr = confusion[0][1] / (confusion[0][0] + confusion[0][1])\n",
        "  tnr = confusion[0][0] / (confusion[0][0] + confusion[0][1])\n",
        "  fnr = confusion[1][0] / (confusion[1][0] + confusion[1][1])\n",
        "  prc = confusion[1][1] / (confusion[0][1] + confusion[1][1])\n",
        "  f_measure = 2 * ((tpr * prc) / (tpr + prc))\n",
        "\n",
        "  print(\"Accuracy:\", acc)\n",
        "  print(\"Null error rate:\", ner)\n",
        "  print(\"Error rate:\", missclass)\n",
        "  print(\"True Positive Rate:\", tpr) # Sensitivity also recall\n",
        "  print(\"False Positive Rate:\", fpr) \n",
        "  print(\"True Negitive Rate:\", tnr) # Specificty\n",
        "  print(\"False Negitive Rate:\", fnr)\n",
        "  print(\"Precision:\", prc)\n",
        "  print(\"F-measure:\", f_measure, '\\n')\n",
        "\n",
        "  # scaling the confusion matricies\n",
        "  temp_con = []\n",
        "  for i in confusion:\n",
        "    temp = i / sum(i) * 100\n",
        "    temp_con.append(temp)\n",
        "\n",
        "  confusion = temp_con\n",
        "\n",
        "  plt.figure(figsize=(15, 6))\n",
        "  plt.matshow(confusion, cmap = 'Blues')\n",
        "          \n",
        "  for (i, j), z in np.ndenumerate(confusion):\n",
        "      if(0 < z < 50):\n",
        "          plt.text(j, i, '{0:0.2f}'.format(z), ha='center', va='center', color =\n",
        "                  'black')\n",
        "          \n",
        "      else:\n",
        "          plt.text(j, i, '{0:0.2f}'.format(z), ha='center', va='center', color =\n",
        "                  'white')\n",
        "\n",
        "  plt.ylabel(\"Truth\")\n",
        "  plt.xlabel(\"Prediction\")\n",
        "  plt.tick_params(bottom = False, top = True, labelbottom = True,\n",
        "                  labeltop = False)\n",
        "  plt.grid(True, which = 'minor')\n",
        "  #plt.savefig(\"Graphs/.png\", bbox_inches='tight', dpi=600)"
      ],
      "execution_count": null,
      "outputs": []
    },
    {
      "cell_type": "markdown",
      "metadata": {
        "id": "R8ozHDIFpA4v"
      },
      "source": [
        "##Summit"
      ]
    },
    {
      "cell_type": "code",
      "metadata": {
        "id": "MVtphDDhNleO"
      },
      "source": [
        "X_summit_train,X_summit_valid,y_summit_train,y_summit_valid = train_test_split(\n",
        "    X, y_summit, train_size=0.8, test_size=0.2, random_state=0)"
      ],
      "execution_count": null,
      "outputs": []
    },
    {
      "cell_type": "code",
      "metadata": {
        "colab": {
          "base_uri": "https://localhost:8080/"
        },
        "id": "RJ3If5FqkGry",
        "outputId": "06060123-ddfb-42f1-8441-f7d6ae80450f"
      },
      "source": [
        "summit_model = XGBClassifier(\n",
        "                             early_stopping_rounds=10,\n",
        "                             lr = 0.05,\n",
        "                             n_estimators=1000,\n",
        "                             verbosity=1,\n",
        "                             max_deapth=4\n",
        "                             )\n",
        "\n",
        "summit_model.fit(X_summit_train, y_summit_train)"
      ],
      "execution_count": null,
      "outputs": [
        {
          "output_type": "execute_result",
          "data": {
            "text/plain": [
              "XGBClassifier(base_score=0.5, booster='gbtree', colsample_bylevel=1,\n",
              "              colsample_bynode=1, colsample_bytree=1, early_stopping_rounds=10,\n",
              "              gamma=0, learning_rate=0.1, lr=0.05, max_deapth=4,\n",
              "              max_delta_step=0, max_depth=3, min_child_weight=1, missing=None,\n",
              "              n_estimators=1000, n_jobs=1, nthread=None,\n",
              "              objective='binary:logistic', random_state=0, reg_alpha=0,\n",
              "              reg_lambda=1, scale_pos_weight=1, seed=None, silent=None,\n",
              "              subsample=1, verbosity=1)"
            ]
          },
          "metadata": {},
          "execution_count": 8
        }
      ]
    },
    {
      "cell_type": "code",
      "metadata": {
        "colab": {
          "base_uri": "https://localhost:8080/",
          "height": 510
        },
        "id": "hDVxrOLpf-XM",
        "outputId": "790863bc-68c7-49de-f6a2-50ee6b9fbcb1"
      },
      "source": [
        "graph_and_stats(summit_model, X_summit_valid, y_summit_valid)"
      ],
      "execution_count": null,
      "outputs": [
        {
          "output_type": "stream",
          "name": "stdout",
          "text": [
            "Log Loss: 3.2227427988323374 \n",
            "\n",
            "Accuracy: 0.9066937119675457\n",
            "Null error rate: 0.9879032258064516\n",
            "Error rate: 0.09330628803245436\n",
            "True Positive Rate: 0.9581653225806451\n",
            "False Positive Rate: 0.14540816326530612\n",
            "True Negitive Rate: 0.8545918367346939\n",
            "False Negitive Rate: 0.041834677419354836\n",
            "Precision: 0.8696248856358646\n",
            "F-measure: 0.9117505995203837 \n",
            "\n"
          ]
        },
        {
          "output_type": "display_data",
          "data": {
            "text/plain": [
              "<Figure size 1080x432 with 0 Axes>"
            ]
          },
          "metadata": {}
        },
        {
          "output_type": "display_data",
          "data": {
            "image/png": "[encoded data removed]",
            "text/plain": [
              "<Figure size 288x288 with 1 Axes>"
            ]
          },
          "metadata": {
            "needs_background": "light"
          }
        }
      ]
    },
    {
      "cell_type": "markdown",
      "metadata": {
        "id": "UpZiZ3NqXmAI"
      },
      "source": [
        "##Modern Summiting"
      ]
    },
    {
      "cell_type": "code",
      "metadata": {
        "id": "8AbdOTdGdMXS"
      },
      "source": [
        "X_mod_summit_train,X_mod_summit_valid,y_mod_summit_train,y_mod_summit_valid = (\n",
        "    train_test_split(X_mod, y_mod_summit, train_size=0.8, test_size=0.2,\n",
        "                     random_state=0))"
      ],
      "execution_count": null,
      "outputs": []
    },
    {
      "cell_type": "code",
      "metadata": {
        "colab": {
          "base_uri": "https://localhost:8080/",
          "height": 282
        },
        "id": "Bapj0sTUOSzC",
        "outputId": "168eaff0-124f-4357-f137-fb18d0722ee8"
      },
      "source": [
        "# model tuning\n",
        "# n_estimators 650 peak\n",
        "# early stopping rounds has no effect, keeping default\n",
        "# lr no effect keeping 0.05\n",
        "# subsample around 0.86 \n",
        "# colsample_bytree around 0.65\n",
        "# gamma 0 is best\n",
        "\n",
        "acc = []\n",
        "for i in [0,1,5]:\n",
        "  temp_model = XGBClassifier(\n",
        "                             early_stopping_rounds=10,\n",
        "                             lr = 0.05,\n",
        "                             n_estimators=650,\n",
        "                             verbosity=1,\n",
        "                             max_deapth=3,\n",
        "                             subsample = 0.85,\n",
        "                             colsample_bytree = 0.65,\n",
        "                             gamma = i\n",
        "                             ).fit(X_mod_summit_train, y_mod_summit_train)\n",
        "  temp_predictions = temp_model.predict(X_mod_summit_valid)\n",
        "  acc.append(accuracy_score(y_mod_summit_valid, temp_predictions))\n",
        "\n",
        "plt.figure()\n",
        "plt.plot([0,1,5], acc)"
      ],
      "execution_count": null,
      "outputs": [
        {
          "output_type": "execute_result",
          "data": {
            "text/plain": [
              "[<matplotlib.lines.Line2D at 0x7fbd66192990>]"
            ]
          },
          "metadata": {},
          "execution_count": 23
        },
        {
          "output_type": "display_data",
          "data": {
            "image/png": "[encoded data removed]",
            "text/plain": [
              "<Figure size 432x288 with 1 Axes>"
            ]
          },
          "metadata": {
            "needs_background": "light"
          }
        }
      ]
    },
    {
      "cell_type": "code",
      "metadata": {
        "colab": {
          "base_uri": "https://localhost:8080/"
        },
        "id": "CbFLbZ4qJz5S",
        "outputId": "702a89d5-7eb6-46db-da31-25d19f0f1fcb"
      },
      "source": [
        "summit_mod_model = XGBClassifier(\n",
        "                             early_stopping_rounds=10,\n",
        "                             lr = 0.05,\n",
        "                             n_estimators=1000,\n",
        "                             verbosity=1,\n",
        "                             max_deapth=3,\n",
        "                             )\n",
        "\n",
        "summit_mod_model.fit(X_mod_summit_train, y_mod_summit_train)"
      ],
      "execution_count": null,
      "outputs": [
        {
          "output_type": "execute_result",
          "data": {
            "text/plain": [
              "XGBClassifier(base_score=0.5, booster='gbtree', colsample_bylevel=1,\n",
              "              colsample_bynode=1, colsample_bytree=1, early_stopping_rounds=10,\n",
              "              gamma=0, learning_rate=0.1, lr=0.05, max_deapth=3,\n",
              "              max_delta_step=0, max_depth=3, min_child_weight=1, missing=None,\n",
              "              n_estimators=1000, n_jobs=1, nthread=None,\n",
              "              objective='binary:logistic', random_state=0, reg_alpha=0,\n",
              "              reg_lambda=1, scale_pos_weight=1, seed=None, silent=None,\n",
              "              subsample=1, verbosity=1)"
            ]
          },
          "metadata": {},
          "execution_count": 28
        }
      ]
    },
    {
      "cell_type": "code",
      "metadata": {
        "colab": {
          "base_uri": "https://localhost:8080/",
          "height": 510
        },
        "id": "msnCx-XGJ1nQ",
        "outputId": "a0352c72-6cfa-4854-b657-814ea131153a"
      },
      "source": [
        "graph_and_stats(summit_mod_model, X_mod_summit_valid, y_mod_summit_valid)"
      ],
      "execution_count": null,
      "outputs": [
        {
          "output_type": "stream",
          "name": "stdout",
          "text": [
            "Log Loss: 3.2938652170272134 \n",
            "\n",
            "Accuracy: 0.9046345811051694\n",
            "Null error rate: 0.7660020986358866\n",
            "Error rate: 0.09536541889483066\n",
            "True Positive Rate: 0.9648478488982162\n",
            "False Positive Rate: 0.17397260273972603\n",
            "True Negitive Rate: 0.826027397260274\n",
            "False Negitive Rate: 0.03515215110178384\n",
            "Precision: 0.8786430960344004\n",
            "F-measure: 0.9197299324831207 \n",
            "\n"
          ]
        },
        {
          "output_type": "display_data",
          "data": {
            "text/plain": [
              "<Figure size 1080x432 with 0 Axes>"
            ]
          },
          "metadata": {}
        },
        {
          "output_type": "display_data",
          "data": {
            "image/png": "[encoded data removed]",
            "text/plain": [
              "<Figure size 288x288 with 1 Axes>"
            ]
          },
          "metadata": {
            "needs_background": "light"
          }
        }
      ]
    },
    {
      "cell_type": "code",
      "metadata": {
        "colab": {
          "base_uri": "https://localhost:8080/"
        },
        "id": "TUK93DKhdQVD",
        "outputId": "2aa56d15-b756-4fc6-9dee-ac8e23dffd2a"
      },
      "source": [
        "# optimised model\n",
        "summit_mod_model = XGBClassifier(\n",
        "                             early_stopping_rounds=10,\n",
        "                             lr = 0.05,\n",
        "                             n_estimators=650,\n",
        "                             verbosity=1,\n",
        "                             max_deapth=3,\n",
        "                             subsample = 0.85,\n",
        "                             colsample_bytree = 0.65,\n",
        "                             gamma = 0\n",
        "                             )\n",
        "\n",
        "summit_mod_model.fit(X_mod_summit_train, y_mod_summit_train)"
      ],
      "execution_count": null,
      "outputs": [
        {
          "output_type": "execute_result",
          "data": {
            "text/plain": [
              "XGBClassifier(base_score=0.5, booster='gbtree', colsample_bylevel=1,\n",
              "              colsample_bynode=1, colsample_bytree=0.65,\n",
              "              early_stopping_rounds=10, gamma=0, learning_rate=0.1, lr=0.05,\n",
              "              max_deapth=3, max_delta_step=0, max_depth=3, min_child_weight=1,\n",
              "              missing=None, n_estimators=650, n_jobs=1, nthread=None,\n",
              "              objective='binary:logistic', random_state=0, reg_alpha=0,\n",
              "              reg_lambda=1, scale_pos_weight=1, seed=None, silent=None,\n",
              "              subsample=0.85, verbosity=1)"
            ]
          },
          "metadata": {},
          "execution_count": 24
        }
      ]
    },
    {
      "cell_type": "code",
      "metadata": {
        "colab": {
          "base_uri": "https://localhost:8080/",
          "height": 510
        },
        "id": "fGEpGfNTfaIe",
        "outputId": "13849161-b223-4559-b0e8-5e7d086bd56f"
      },
      "source": [
        "graph_and_stats(summit_mod_model, X_mod_summit_valid, y_mod_summit_valid)"
      ],
      "execution_count": null,
      "outputs": [
        {
          "output_type": "stream",
          "name": "stdout",
          "text": [
            "Log Loss: 3.222038646505926 \n",
            "\n",
            "Accuracy: 0.9067142008318478\n",
            "Null error rate: 0.7660020986358866\n",
            "Error rate: 0.0932857991681521\n",
            "True Positive Rate: 0.9706190975865687\n",
            "False Positive Rate: 0.17671232876712328\n",
            "True Negitive Rate: 0.8232876712328767\n",
            "False Negitive Rate: 0.02938090241343127\n",
            "Precision: 0.8776091081593927\n",
            "F-measure: 0.9217737917289487 \n",
            "\n"
          ]
        },
        {
          "output_type": "display_data",
          "data": {
            "text/plain": [
              "<Figure size 1080x432 with 0 Axes>"
            ]
          },
          "metadata": {}
        },
        {
          "output_type": "display_data",
          "data": {
            "image/png": "[encoded data removed]",
            "text/plain": [
              "<Figure size 288x288 with 1 Axes>"
            ]
          },
          "metadata": {
            "needs_background": "light"
          }
        }
      ]
    },
    {
      "cell_type": "markdown",
      "metadata": {
        "id": "PeA6TBHjo9kg"
      },
      "source": [
        "##Death"
      ]
    },
    {
      "cell_type": "code",
      "metadata": {
        "id": "1dN-uJLENoko"
      },
      "source": [
        "X_death_train, X_death_valid, y_death_train, y_death_valid = train_test_split(\n",
        "    X, y_death, train_size=0.8, test_size=0.2, random_state=0)"
      ],
      "execution_count": null,
      "outputs": []
    },
    {
      "cell_type": "code",
      "metadata": {
        "colab": {
          "base_uri": "https://localhost:8080/"
        },
        "id": "9pyOOGYVniRf",
        "outputId": "29cddb04-a295-4d9c-d7d0-e070409b9f64"
      },
      "source": [
        "death_model = XGBClassifier(\n",
        "                            early_stopping_rounds=10,\n",
        "                            lr = 0.05,\n",
        "                            n_estimators=1000,\n",
        "                            verbosity=1,\n",
        "                            max_deapth=4\n",
        "                            )\n",
        "\n",
        "death_model.fit(X_death_train, y_death_train)"
      ],
      "execution_count": null,
      "outputs": [
        {
          "output_type": "execute_result",
          "data": {
            "text/plain": [
              "XGBClassifier(base_score=0.5, booster='gbtree', colsample_bylevel=1,\n",
              "              colsample_bynode=1, colsample_bytree=1, early_stopping_rounds=10,\n",
              "              gamma=0, learning_rate=0.1, lr=0.05, max_deapth=4,\n",
              "              max_delta_step=0, max_depth=3, min_child_weight=1, missing=None,\n",
              "              n_estimators=1000, n_jobs=1, nthread=None,\n",
              "              objective='binary:logistic', random_state=0, reg_alpha=0,\n",
              "              reg_lambda=1, scale_pos_weight=1, seed=None, silent=None,\n",
              "              subsample=1, verbosity=1)"
            ]
          },
          "metadata": {},
          "execution_count": 14
        }
      ]
    },
    {
      "cell_type": "code",
      "metadata": {
        "colab": {
          "base_uri": "https://localhost:8080/",
          "height": 510
        },
        "id": "C40xYX1ZghMM",
        "outputId": "d2b36c95-f1a5-470d-cf92-c5f95afce734"
      },
      "source": [
        "graph_and_stats(death_model, X_death_valid, y_death_valid)"
      ],
      "execution_count": null,
      "outputs": [
        {
          "output_type": "stream",
          "name": "stdout",
          "text": [
            "Log Loss: 0.33277887925609817 \n",
            "\n",
            "Accuracy: 0.9903651115618661\n",
            "Null error rate: 95.1951219512195\n",
            "Error rate: 0.009634888438133874\n",
            "True Positive Rate: 0.2682926829268293\n",
            "False Positive Rate: 0.0020497053548552396\n",
            "True Negitive Rate: 0.9979502946451447\n",
            "False Negitive Rate: 0.7317073170731707\n",
            "Precision: 0.5789473684210527\n",
            "F-measure: 0.36666666666666664 \n",
            "\n"
          ]
        },
        {
          "output_type": "display_data",
          "data": {
            "text/plain": [
              "<Figure size 1080x432 with 0 Axes>"
            ]
          },
          "metadata": {}
        },
        {
          "output_type": "display_data",
          "data": {
            "image/png": "[encoded data removed]",
            "text/plain": [
              "<Figure size 288x288 with 1 Axes>"
            ]
          },
          "metadata": {
            "needs_background": "light"
          }
        }
      ]
    },
    {
      "cell_type": "markdown",
      "metadata": {
        "id": "5sYucrz1V3Wy"
      },
      "source": [
        "##Death with undersampling\n"
      ]
    },
    {
      "cell_type": "code",
      "metadata": {
        "id": "d26uTWVCwhYp",
        "colab": {
          "base_uri": "https://localhost:8080/"
        },
        "outputId": "b070f73f-549f-4ebb-cac3-3da4636fe85e"
      },
      "source": [
        "sampler = RandomUnderSampler(random_state = 0, replacement=True)\n",
        "\n",
        "X_death_resampled_u, y_death_resampled_u = sampler.fit_resample(X_death_train,\n",
        "                                                            y_death_train)\n",
        "\n",
        "# Getting data in the right format\n",
        "X_death_resampled_u = pd.DataFrame(X_death_resampled_u,\n",
        "                                   columns=X_death_valid.columns)\n",
        "y_death_resampled_u = pd.Series(y_death_resampled_u)"
      ],
      "execution_count": null,
      "outputs": [
        {
          "output_type": "stream",
          "name": "stderr",
          "text": [
            "/usr/local/lib/python3.7/dist-packages/sklearn/utils/deprecation.py:87: FutureWarning: Function safe_indexing is deprecated; safe_indexing is deprecated in version 0.22 and will be removed in version 0.24.\n",
            "  warnings.warn(msg, category=FutureWarning)\n"
          ]
        }
      ]
    },
    {
      "cell_type": "code",
      "metadata": {
        "colab": {
          "base_uri": "https://localhost:8080/"
        },
        "id": "506U1m_hWCGV",
        "outputId": "b7937e79-55f4-4e91-e9d3-6c7ea5d6f795"
      },
      "source": [
        "death_model_u = XGBClassifier(\n",
        "                            early_stopping_rounds=10,\n",
        "                            lr = 0.05,\n",
        "                            n_estimators=1000,\n",
        "                            verbosity=1,\n",
        "                            max_deapth=6,\n",
        "                            )\n",
        "\n",
        "death_model_u.fit(X_death_resampled_u, y_death_resampled_u)"
      ],
      "execution_count": null,
      "outputs": [
        {
          "output_type": "execute_result",
          "data": {
            "text/plain": [
              "XGBClassifier(base_score=0.5, booster='gbtree', colsample_bylevel=1,\n",
              "              colsample_bynode=1, colsample_bytree=1, early_stopping_rounds=10,\n",
              "              gamma=0, learning_rate=0.1, lr=0.05, max_deapth=6,\n",
              "              max_delta_step=0, max_depth=3, min_child_weight=1, missing=None,\n",
              "              n_estimators=1000, n_jobs=1, nthread=None,\n",
              "              objective='binary:logistic', random_state=0, reg_alpha=0,\n",
              "              reg_lambda=1, scale_pos_weight=1, seed=None, silent=None,\n",
              "              subsample=1, verbosity=1)"
            ]
          },
          "metadata": {},
          "execution_count": 17
        }
      ]
    },
    {
      "cell_type": "code",
      "metadata": {
        "colab": {
          "base_uri": "https://localhost:8080/",
          "height": 510
        },
        "id": "GUimKWgBgqUK",
        "outputId": "33b098f4-3edb-4e36-b923-bd2f180453da"
      },
      "source": [
        "graph_and_stats(death_model_u, X_death_valid, y_death_valid)"
      ],
      "execution_count": null,
      "outputs": [
        {
          "output_type": "stream",
          "name": "stdout",
          "text": [
            "Log Loss: 9.536914366045872 \n",
            "\n",
            "Accuracy: 0.7238843813387424\n",
            "Null error rate: 95.1951219512195\n",
            "Error rate: 0.2761156186612576\n",
            "True Positive Rate: 0.7560975609756098\n",
            "False Positive Rate: 0.27645400973610046\n",
            "True Negitive Rate: 0.7235459902638995\n",
            "False Negitive Rate: 0.24390243902439024\n",
            "Precision: 0.027927927927927927\n",
            "F-measure: 0.05386620330147698 \n",
            "\n"
          ]
        },
        {
          "output_type": "display_data",
          "data": {
            "text/plain": [
              "<Figure size 1080x432 with 0 Axes>"
            ]
          },
          "metadata": {}
        },
        {
          "output_type": "display_data",
          "data": {
            "image/png": "[encoded data removed]",
            "text/plain": [
              "<Figure size 288x288 with 1 Axes>"
            ]
          },
          "metadata": {
            "needs_background": "light"
          }
        }
      ]
    },
    {
      "cell_type": "markdown",
      "metadata": {
        "id": "5vHwxNsFjbx2"
      },
      "source": [
        "##Death with oversampling\n"
      ]
    },
    {
      "cell_type": "code",
      "metadata": {
        "colab": {
          "base_uri": "https://localhost:8080/"
        },
        "id": "sEzgdR5vjbx3",
        "outputId": "545520fb-1168-45e4-fe8b-f9ba566d6e24"
      },
      "source": [
        "sampler = SMOTE(random_state = 0)\n",
        "\n",
        "X_death_resampled_o, y_death_resampled_o = sampler.fit_resample(X_death_train,\n",
        "                                                                y_death_train)\n",
        "\n",
        "# Getting data in the right format\n",
        "X_death_resampled_o = pd.DataFrame(X_death_resampled_o,\n",
        "                                   columns=X_death_valid.columns)\n",
        "y_death_resampled_o = pd.Series(y_death_resampled_o)"
      ],
      "execution_count": null,
      "outputs": [
        {
          "output_type": "stream",
          "name": "stderr",
          "text": [
            "/usr/local/lib/python3.7/dist-packages/sklearn/utils/deprecation.py:87: FutureWarning: Function safe_indexing is deprecated; safe_indexing is deprecated in version 0.22 and will be removed in version 0.24.\n",
            "  warnings.warn(msg, category=FutureWarning)\n"
          ]
        }
      ]
    },
    {
      "cell_type": "code",
      "metadata": {
        "colab": {
          "base_uri": "https://localhost:8080/"
        },
        "id": "afvwp0-Zjbx3",
        "outputId": "133cff85-ccdc-4431-e907-ca85a55ee32a"
      },
      "source": [
        "death_model_o = XGBClassifier(\n",
        "                            early_stopping_rounds=10,\n",
        "                            lr = 0.05,\n",
        "                            n_estimators=1000,\n",
        "                            verbosity=1,\n",
        "                            max_deapth=6,\n",
        "                            )\n",
        "\n",
        "death_model_o.fit(X_death_resampled_o, y_death_resampled_o)"
      ],
      "execution_count": null,
      "outputs": [
        {
          "output_type": "execute_result",
          "data": {
            "text/plain": [
              "XGBClassifier(base_score=0.5, booster='gbtree', colsample_bylevel=1,\n",
              "              colsample_bynode=1, colsample_bytree=1, early_stopping_rounds=10,\n",
              "              gamma=0, learning_rate=0.1, lr=0.05, max_deapth=6,\n",
              "              max_delta_step=0, max_depth=3, min_child_weight=1, missing=None,\n",
              "              n_estimators=1000, n_jobs=1, nthread=None,\n",
              "              objective='binary:logistic', random_state=0, reg_alpha=0,\n",
              "              reg_lambda=1, scale_pos_weight=1, seed=None, silent=None,\n",
              "              subsample=1, verbosity=1)"
            ]
          },
          "metadata": {},
          "execution_count": 20
        }
      ]
    },
    {
      "cell_type": "code",
      "metadata": {
        "colab": {
          "base_uri": "https://localhost:8080/"
        },
        "id": "FagcCmNXg0WY",
        "outputId": "86a5ec86-6eba-4b93-914c-ab3fc721b774"
      },
      "source": [
        "graph_and_stats(death_model_o, X_death_valid, y_death_valid)"
      ],
      "execution_count": null,
      "outputs": [
        {
          "output_type": "stream",
          "name": "stdout",
          "text": [
            "Log Loss: 0.3765663741753944 \n",
            "\n",
            "Accuracy: 0.9890973630831643\n",
            "Null error rate: 95.1951219512195\n",
            "Error rate: 0.0109026369168357\n",
            "True Positive Rate: 0.2682926829268293\n",
            "False Positive Rate: 0.003330771201639764\n",
            "True Negitive Rate: 0.9966692287983603\n",
            "False Negitive Rate: 0.7317073170731707\n",
            "Precision: 0.4583333333333333\n",
            "F-measure: 0.3384615384615385 \n",
            "\n"
          ]
        },
        {
          "output_type": "display_data",
          "data": {
            "text/plain": [
              "<Figure size 1080x432 with 0 Axes>"
            ]
          },
          "metadata": {}
        },
        {
          "output_type": "display_data",
          "data": {
            "image/png": "[encoded data removed]",
            "text/plain": [
              "<Figure size 288x288 with 1 Axes>"
            ]
          },
          "metadata": {
            "needs_background": "light"
          }
        }
      ]
    }
  ]
}